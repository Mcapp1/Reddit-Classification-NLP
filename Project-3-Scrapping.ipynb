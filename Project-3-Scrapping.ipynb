{
 "cells": [
  {
   "cell_type": "markdown",
   "id": "3f2434a1",
   "metadata": {},
   "source": [
    "# Project 3: Data Scrapping"
   ]
  },
  {
   "cell_type": "markdown",
   "id": "6bfcdb61",
   "metadata": {},
   "source": [
    "### Scenario\n",
    "\n",
    "You're fresh out of your Data Science bootcamp and looking to break through in the world of freelance data journalism. Nate Silver and co. at FiveThirtyEight have agreed to hear your pitch for a story in two weeks!\n",
    "\n",
    "Your piece is going to be on how to create a Reddit post that will get the most engagement from Reddit users. Because this is FiveThirtyEight, you're going to have to get data and analyze it in order to make a compelling narrative."
   ]
  },
  {
   "cell_type": "markdown",
   "id": "721ffc6e",
   "metadata": {},
   "source": [
    "### Problem Statement: What characteristics of a post on Reddit are most predictive of the overall interaction on a thread (as measured by number of comments) ?"
   ]
  },
  {
   "cell_type": "markdown",
   "id": "4035d098",
   "metadata": {},
   "source": [
    "GET:\n",
    "1. The title of the thread\n",
    "2. The subreddit that the thread corresponds to\n",
    "3. The length of time it has been up on Reddit\n",
    "4. The number of comments on the thread\n",
    "\n",
    "Scrape at least 10,000 threads.\n",
    "\n",
    "Once you've got the data, you will build a classification model that, using the text and any other relevant features, predicts whether or not a given Reddit post will have above or below the _median_ number of comments."
   ]
  },
  {
   "cell_type": "markdown",
   "id": "2f237158",
   "metadata": {},
   "source": [
    "## Import Libraries"
   ]
  },
  {
   "cell_type": "code",
   "execution_count": 1,
   "id": "14366ed2",
   "metadata": {},
   "outputs": [],
   "source": [
    "import pandas as pd\n",
    "import numpy as np\n",
    "\n",
    "import requests\n",
    "import json\n",
    "from bs4 import BeautifulSoup\n",
    "from selenium import webdriver\n",
    "from selenium.webdriver.chrome.service import Service\n",
    "from time import sleep\n",
    "import praw"
   ]
  },
  {
   "cell_type": "markdown",
   "id": "a4985c08",
   "metadata": {},
   "source": [
    "### Scrapping Data Round 1"
   ]
  },
  {
   "cell_type": "code",
   "execution_count": 2,
   "id": "ea37effc",
   "metadata": {},
   "outputs": [],
   "source": [
    "reddit = praw.Reddit(client_id='tTV90taLsVas5YYvv6XiNw', \n",
    "                     client_secret='AidES-QOZHurdZG9U4hVmr6xjxUxJA', \n",
    "                     user_agent='Michael_Capparelli')"
   ]
  },
  {
   "cell_type": "code",
   "execution_count": null,
   "id": "3c542a22",
   "metadata": {},
   "outputs": [],
   "source": [
    "posts = []\n",
    "r_all = reddit.subreddit('all')\n",
    "for post in r_all.hot(limit=10_000):\n",
    "    posts.append([post.subreddit,post.title,\n",
    "                  post.score,post.num_comments,\n",
    "                  post.created])\n",
    "    \n",
    "posts = pd.DataFrame(posts,columns=['sub','title','score',\n",
    "                                    'comments','created'])"
   ]
  },
  {
   "cell_type": "code",
   "execution_count": null,
   "id": "14cb89c1",
   "metadata": {},
   "outputs": [],
   "source": [
    "reddit = posts"
   ]
  },
  {
   "cell_type": "code",
   "execution_count": null,
   "id": "7ed3f360",
   "metadata": {},
   "outputs": [],
   "source": [
    "reddit"
   ]
  },
  {
   "cell_type": "code",
   "execution_count": null,
   "id": "ecf93160",
   "metadata": {},
   "outputs": [],
   "source": [
    "reddit.to_csv('data/reddit_all.csv',index=False)"
   ]
  },
  {
   "cell_type": "markdown",
   "id": "b189a92b",
   "metadata": {},
   "source": [
    "https://praw.readthedocs.io/en/stable/code_overview/models/subreddit.html"
   ]
  },
  {
   "cell_type": "markdown",
   "id": "d3d42960",
   "metadata": {},
   "source": [
    "### Scrapping Data Round 2"
   ]
  },
  {
   "cell_type": "code",
   "execution_count": null,
   "id": "5821231c",
   "metadata": {},
   "outputs": [],
   "source": [
    "posts = []\n",
    "r_all = reddit.subreddit('all')\n",
    "for post in r_all.top(time_filter='all',limit=10_500):\n",
    "    posts.append([post.subreddit,post.title,\n",
    "                  post.score,post.num_comments,\n",
    "                  post.created])\n",
    "    \n",
    "posts = pd.DataFrame(posts,columns=['sub','title','score',\n",
    "                                    'comments','created'])"
   ]
  },
  {
   "cell_type": "code",
   "execution_count": null,
   "id": "a6a57dbd",
   "metadata": {},
   "outputs": [],
   "source": [
    "posts"
   ]
  },
  {
   "cell_type": "code",
   "execution_count": null,
   "id": "ef84e24d",
   "metadata": {},
   "outputs": [],
   "source": [
    "posts.to_csv('data/r_all.csv',index=False)"
   ]
  },
  {
   "cell_type": "markdown",
   "id": "465c999a",
   "metadata": {},
   "source": [
    "### Merging Two Scrapes and Eliminating Duplicates"
   ]
  },
  {
   "cell_type": "code",
   "execution_count": 3,
   "id": "4bc74903",
   "metadata": {},
   "outputs": [],
   "source": [
    "reddit1 = pd.read_csv('data/reddit_all.csv')\n",
    "reddit2 = pd.read_csv('data/r_all.csv')"
   ]
  },
  {
   "cell_type": "code",
   "execution_count": 4,
   "id": "f6f7d962",
   "metadata": {},
   "outputs": [
    {
     "data": {
      "text/plain": [
       "((7332, 5), (2410, 5))"
      ]
     },
     "execution_count": 4,
     "metadata": {},
     "output_type": "execute_result"
    }
   ],
   "source": [
    "reddit1.shape,reddit2.shape"
   ]
  },
  {
   "cell_type": "code",
   "execution_count": 8,
   "id": "000bdaeb",
   "metadata": {},
   "outputs": [],
   "source": [
    "reddit3 = pd.concat([reddit1,reddit2]).drop_duplicates().reset_index(drop=True)"
   ]
  },
  {
   "cell_type": "code",
   "execution_count": 9,
   "id": "3efcc343",
   "metadata": {},
   "outputs": [
    {
     "data": {
      "text/plain": [
       "(9708, 5)"
      ]
     },
     "execution_count": 9,
     "metadata": {},
     "output_type": "execute_result"
    }
   ],
   "source": [
    "reddit3.shape"
   ]
  },
  {
   "cell_type": "code",
   "execution_count": 10,
   "id": "c0347465",
   "metadata": {},
   "outputs": [
    {
     "data": {
      "text/html": [
       "<div>\n",
       "<style scoped>\n",
       "    .dataframe tbody tr th:only-of-type {\n",
       "        vertical-align: middle;\n",
       "    }\n",
       "\n",
       "    .dataframe tbody tr th {\n",
       "        vertical-align: top;\n",
       "    }\n",
       "\n",
       "    .dataframe thead th {\n",
       "        text-align: right;\n",
       "    }\n",
       "</style>\n",
       "<table border=\"1\" class=\"dataframe\">\n",
       "  <thead>\n",
       "    <tr style=\"text-align: right;\">\n",
       "      <th></th>\n",
       "      <th>sub</th>\n",
       "      <th>title</th>\n",
       "      <th>score</th>\n",
       "      <th>comments</th>\n",
       "      <th>created</th>\n",
       "    </tr>\n",
       "  </thead>\n",
       "  <tbody>\n",
       "    <tr>\n",
       "      <th>0</th>\n",
       "      <td>LeopardsAteMyFace</td>\n",
       "      <td>Did they really think he'd pay out?</td>\n",
       "      <td>20509</td>\n",
       "      <td>1031</td>\n",
       "      <td>1.661805e+09</td>\n",
       "    </tr>\n",
       "    <tr>\n",
       "      <th>1</th>\n",
       "      <td>news</td>\n",
       "      <td>China drought causes Yangtze to dry up, sparki...</td>\n",
       "      <td>19660</td>\n",
       "      <td>1546</td>\n",
       "      <td>1.661801e+09</td>\n",
       "    </tr>\n",
       "    <tr>\n",
       "      <th>2</th>\n",
       "      <td>MadeMeSmile</td>\n",
       "      <td>He did it!</td>\n",
       "      <td>86623</td>\n",
       "      <td>871</td>\n",
       "      <td>1.661799e+09</td>\n",
       "    </tr>\n",
       "    <tr>\n",
       "      <th>3</th>\n",
       "      <td>aww</td>\n",
       "      <td>Loving the water.</td>\n",
       "      <td>13717</td>\n",
       "      <td>112</td>\n",
       "      <td>1.661802e+09</td>\n",
       "    </tr>\n",
       "    <tr>\n",
       "      <th>4</th>\n",
       "      <td>politics</td>\n",
       "      <td>Biden vows to crack down on colleges 'jacking ...</td>\n",
       "      <td>44057</td>\n",
       "      <td>2259</td>\n",
       "      <td>1.661798e+09</td>\n",
       "    </tr>\n",
       "  </tbody>\n",
       "</table>\n",
       "</div>"
      ],
      "text/plain": [
       "                 sub                                              title  \\\n",
       "0  LeopardsAteMyFace                Did they really think he'd pay out?   \n",
       "1               news  China drought causes Yangtze to dry up, sparki...   \n",
       "2        MadeMeSmile                                         He did it!   \n",
       "3                aww                                  Loving the water.   \n",
       "4           politics  Biden vows to crack down on colleges 'jacking ...   \n",
       "\n",
       "   score  comments       created  \n",
       "0  20509      1031  1.661805e+09  \n",
       "1  19660      1546  1.661801e+09  \n",
       "2  86623       871  1.661799e+09  \n",
       "3  13717       112  1.661802e+09  \n",
       "4  44057      2259  1.661798e+09  "
      ]
     },
     "execution_count": 10,
     "metadata": {},
     "output_type": "execute_result"
    }
   ],
   "source": [
    "reddit3.head()"
   ]
  },
  {
   "cell_type": "code",
   "execution_count": 11,
   "id": "7e8ee772",
   "metadata": {},
   "outputs": [],
   "source": [
    "from datetime import datetime\n",
    " \n",
    "reddit3.created = reddit3['created'].apply(lambda t: datetime.utcfromtimestamp(\n",
    "    int(\"1284101485\")).strftime('%Y-%m-%d %H:%M:%S'))"
   ]
  },
  {
   "cell_type": "code",
   "execution_count": 13,
   "id": "4e0b8362",
   "metadata": {},
   "outputs": [],
   "source": [
    "reddit3.to_csv('data/reddit_3.csv',index=False)"
   ]
  },
  {
   "cell_type": "code",
   "execution_count": 14,
   "id": "9a1c0b33",
   "metadata": {},
   "outputs": [],
   "source": [
    "reddit3 = pd.read_csv('data/reddit_3.csv')"
   ]
  },
  {
   "cell_type": "code",
   "execution_count": 15,
   "id": "1c00e06e",
   "metadata": {},
   "outputs": [
    {
     "data": {
      "text/html": [
       "<div>\n",
       "<style scoped>\n",
       "    .dataframe tbody tr th:only-of-type {\n",
       "        vertical-align: middle;\n",
       "    }\n",
       "\n",
       "    .dataframe tbody tr th {\n",
       "        vertical-align: top;\n",
       "    }\n",
       "\n",
       "    .dataframe thead th {\n",
       "        text-align: right;\n",
       "    }\n",
       "</style>\n",
       "<table border=\"1\" class=\"dataframe\">\n",
       "  <thead>\n",
       "    <tr style=\"text-align: right;\">\n",
       "      <th></th>\n",
       "      <th>sub</th>\n",
       "      <th>title</th>\n",
       "      <th>score</th>\n",
       "      <th>comments</th>\n",
       "      <th>created</th>\n",
       "    </tr>\n",
       "  </thead>\n",
       "  <tbody>\n",
       "    <tr>\n",
       "      <th>0</th>\n",
       "      <td>LeopardsAteMyFace</td>\n",
       "      <td>Did they really think he'd pay out?</td>\n",
       "      <td>20509</td>\n",
       "      <td>1031</td>\n",
       "      <td>2010-09-10 06:51:25</td>\n",
       "    </tr>\n",
       "    <tr>\n",
       "      <th>1</th>\n",
       "      <td>news</td>\n",
       "      <td>China drought causes Yangtze to dry up, sparki...</td>\n",
       "      <td>19660</td>\n",
       "      <td>1546</td>\n",
       "      <td>2010-09-10 06:51:25</td>\n",
       "    </tr>\n",
       "    <tr>\n",
       "      <th>2</th>\n",
       "      <td>MadeMeSmile</td>\n",
       "      <td>He did it!</td>\n",
       "      <td>86623</td>\n",
       "      <td>871</td>\n",
       "      <td>2010-09-10 06:51:25</td>\n",
       "    </tr>\n",
       "    <tr>\n",
       "      <th>3</th>\n",
       "      <td>aww</td>\n",
       "      <td>Loving the water.</td>\n",
       "      <td>13717</td>\n",
       "      <td>112</td>\n",
       "      <td>2010-09-10 06:51:25</td>\n",
       "    </tr>\n",
       "    <tr>\n",
       "      <th>4</th>\n",
       "      <td>politics</td>\n",
       "      <td>Biden vows to crack down on colleges 'jacking ...</td>\n",
       "      <td>44057</td>\n",
       "      <td>2259</td>\n",
       "      <td>2010-09-10 06:51:25</td>\n",
       "    </tr>\n",
       "  </tbody>\n",
       "</table>\n",
       "</div>"
      ],
      "text/plain": [
       "                 sub                                              title  \\\n",
       "0  LeopardsAteMyFace                Did they really think he'd pay out?   \n",
       "1               news  China drought causes Yangtze to dry up, sparki...   \n",
       "2        MadeMeSmile                                         He did it!   \n",
       "3                aww                                  Loving the water.   \n",
       "4           politics  Biden vows to crack down on colleges 'jacking ...   \n",
       "\n",
       "   score  comments              created  \n",
       "0  20509      1031  2010-09-10 06:51:25  \n",
       "1  19660      1546  2010-09-10 06:51:25  \n",
       "2  86623       871  2010-09-10 06:51:25  \n",
       "3  13717       112  2010-09-10 06:51:25  \n",
       "4  44057      2259  2010-09-10 06:51:25  "
      ]
     },
     "execution_count": 15,
     "metadata": {},
     "output_type": "execute_result"
    }
   ],
   "source": [
    "reddit3.head()"
   ]
  },
  {
   "cell_type": "markdown",
   "id": "fd241c1e",
   "metadata": {},
   "source": [
    "### Scrapping Data Round 3"
   ]
  },
  {
   "cell_type": "code",
   "execution_count": 23,
   "id": "86fb546f",
   "metadata": {},
   "outputs": [],
   "source": [
    "submissions = []\n",
    "r4 = reddit.subreddit('all')\n",
    "for post in r4.hot(limit=10_500):\n",
    "    submissions.append([post.subreddit,post.title,\n",
    "                  post.score,post.num_comments,\n",
    "                  post.created])\n",
    "    \n",
    "submissions = pd.DataFrame(submissions,columns=['sub','title','score',\n",
    "                                          'comments','created'])    "
   ]
  },
  {
   "cell_type": "code",
   "execution_count": 28,
   "id": "aa1a8dfe",
   "metadata": {},
   "outputs": [
    {
     "data": {
      "text/html": [
       "<div>\n",
       "<style scoped>\n",
       "    .dataframe tbody tr th:only-of-type {\n",
       "        vertical-align: middle;\n",
       "    }\n",
       "\n",
       "    .dataframe tbody tr th {\n",
       "        vertical-align: top;\n",
       "    }\n",
       "\n",
       "    .dataframe thead th {\n",
       "        text-align: right;\n",
       "    }\n",
       "</style>\n",
       "<table border=\"1\" class=\"dataframe\">\n",
       "  <thead>\n",
       "    <tr style=\"text-align: right;\">\n",
       "      <th></th>\n",
       "      <th>sub</th>\n",
       "      <th>title</th>\n",
       "      <th>score</th>\n",
       "      <th>comments</th>\n",
       "      <th>created</th>\n",
       "    </tr>\n",
       "  </thead>\n",
       "  <tbody>\n",
       "    <tr>\n",
       "      <th>0</th>\n",
       "      <td>pics</td>\n",
       "      <td>On August 7th I finished hiking the Pacific Cr...</td>\n",
       "      <td>21288</td>\n",
       "      <td>1183</td>\n",
       "      <td>2010-09-10 06:51:25</td>\n",
       "    </tr>\n",
       "    <tr>\n",
       "      <th>1</th>\n",
       "      <td>AbruptChaos</td>\n",
       "      <td>Being an ASMR TikToker</td>\n",
       "      <td>20408</td>\n",
       "      <td>670</td>\n",
       "      <td>2010-09-10 06:51:25</td>\n",
       "    </tr>\n",
       "    <tr>\n",
       "      <th>2</th>\n",
       "      <td>blackmagicfuckery</td>\n",
       "      <td>Astronaut dissolves effervescent tablet in wat...</td>\n",
       "      <td>14074</td>\n",
       "      <td>350</td>\n",
       "      <td>2010-09-10 06:51:25</td>\n",
       "    </tr>\n",
       "    <tr>\n",
       "      <th>3</th>\n",
       "      <td>interestingasfuck</td>\n",
       "      <td>My fiancée got a spider bite on her ankle, and...</td>\n",
       "      <td>8474</td>\n",
       "      <td>644</td>\n",
       "      <td>2010-09-10 06:51:25</td>\n",
       "    </tr>\n",
       "    <tr>\n",
       "      <th>4</th>\n",
       "      <td>politics</td>\n",
       "      <td>Some of the documents retrieved from Mar-a-Lag...</td>\n",
       "      <td>32289</td>\n",
       "      <td>2083</td>\n",
       "      <td>2010-09-10 06:51:25</td>\n",
       "    </tr>\n",
       "  </tbody>\n",
       "</table>\n",
       "</div>"
      ],
      "text/plain": [
       "                 sub                                              title  \\\n",
       "0               pics  On August 7th I finished hiking the Pacific Cr...   \n",
       "1        AbruptChaos                             Being an ASMR TikToker   \n",
       "2  blackmagicfuckery  Astronaut dissolves effervescent tablet in wat...   \n",
       "3  interestingasfuck  My fiancée got a spider bite on her ankle, and...   \n",
       "4           politics  Some of the documents retrieved from Mar-a-Lag...   \n",
       "\n",
       "   score  comments              created  \n",
       "0  21288      1183  2010-09-10 06:51:25  \n",
       "1  20408       670  2010-09-10 06:51:25  \n",
       "2  14074       350  2010-09-10 06:51:25  \n",
       "3   8474       644  2010-09-10 06:51:25  \n",
       "4  32289      2083  2010-09-10 06:51:25  "
      ]
     },
     "execution_count": 28,
     "metadata": {},
     "output_type": "execute_result"
    }
   ],
   "source": [
    "submissions.head()"
   ]
  },
  {
   "cell_type": "code",
   "execution_count": 24,
   "id": "9d293fe0",
   "metadata": {},
   "outputs": [],
   "source": [
    "submissions['created'] = submissions.created.apply(lambda t: datetime.utcfromtimestamp(\n",
    "    int(\"1284101485\")).strftime('%Y-%m-%d %H:%M:%S'))"
   ]
  },
  {
   "cell_type": "markdown",
   "id": "c7cf3581",
   "metadata": {},
   "source": [
    "### Concat For Final DataFrame"
   ]
  },
  {
   "cell_type": "code",
   "execution_count": 27,
   "id": "603f5427",
   "metadata": {},
   "outputs": [],
   "source": [
    "df = pd.concat([reddit3,submissions]).drop_duplicates().reset_index(drop=True)"
   ]
  },
  {
   "cell_type": "code",
   "execution_count": 29,
   "id": "47b622c7",
   "metadata": {},
   "outputs": [],
   "source": [
    "df.to_csv('data/reddit_complete.csv',index=False)"
   ]
  },
  {
   "cell_type": "code",
   "execution_count": 30,
   "id": "3e986f4e",
   "metadata": {},
   "outputs": [],
   "source": [
    "df = pd.read_csv('data/reddit_complete.csv')"
   ]
  },
  {
   "cell_type": "code",
   "execution_count": 31,
   "id": "bb26c04f",
   "metadata": {},
   "outputs": [
    {
     "data": {
      "text/html": [
       "<div>\n",
       "<style scoped>\n",
       "    .dataframe tbody tr th:only-of-type {\n",
       "        vertical-align: middle;\n",
       "    }\n",
       "\n",
       "    .dataframe tbody tr th {\n",
       "        vertical-align: top;\n",
       "    }\n",
       "\n",
       "    .dataframe thead th {\n",
       "        text-align: right;\n",
       "    }\n",
       "</style>\n",
       "<table border=\"1\" class=\"dataframe\">\n",
       "  <thead>\n",
       "    <tr style=\"text-align: right;\">\n",
       "      <th></th>\n",
       "      <th>sub</th>\n",
       "      <th>title</th>\n",
       "      <th>score</th>\n",
       "      <th>comments</th>\n",
       "      <th>created</th>\n",
       "    </tr>\n",
       "  </thead>\n",
       "  <tbody>\n",
       "    <tr>\n",
       "      <th>0</th>\n",
       "      <td>LeopardsAteMyFace</td>\n",
       "      <td>Did they really think he'd pay out?</td>\n",
       "      <td>20509</td>\n",
       "      <td>1031</td>\n",
       "      <td>2010-09-10 06:51:25</td>\n",
       "    </tr>\n",
       "    <tr>\n",
       "      <th>1</th>\n",
       "      <td>news</td>\n",
       "      <td>China drought causes Yangtze to dry up, sparki...</td>\n",
       "      <td>19660</td>\n",
       "      <td>1546</td>\n",
       "      <td>2010-09-10 06:51:25</td>\n",
       "    </tr>\n",
       "    <tr>\n",
       "      <th>2</th>\n",
       "      <td>MadeMeSmile</td>\n",
       "      <td>He did it!</td>\n",
       "      <td>86623</td>\n",
       "      <td>871</td>\n",
       "      <td>2010-09-10 06:51:25</td>\n",
       "    </tr>\n",
       "    <tr>\n",
       "      <th>3</th>\n",
       "      <td>aww</td>\n",
       "      <td>Loving the water.</td>\n",
       "      <td>13717</td>\n",
       "      <td>112</td>\n",
       "      <td>2010-09-10 06:51:25</td>\n",
       "    </tr>\n",
       "    <tr>\n",
       "      <th>4</th>\n",
       "      <td>politics</td>\n",
       "      <td>Biden vows to crack down on colleges 'jacking ...</td>\n",
       "      <td>44057</td>\n",
       "      <td>2259</td>\n",
       "      <td>2010-09-10 06:51:25</td>\n",
       "    </tr>\n",
       "    <tr>\n",
       "      <th>...</th>\n",
       "      <td>...</td>\n",
       "      <td>...</td>\n",
       "      <td>...</td>\n",
       "      <td>...</td>\n",
       "      <td>...</td>\n",
       "    </tr>\n",
       "    <tr>\n",
       "      <th>16790</th>\n",
       "      <td>Superstonk</td>\n",
       "      <td>Guess it's time to finally feed the bot. +1171...</td>\n",
       "      <td>1800</td>\n",
       "      <td>13</td>\n",
       "      <td>2010-09-10 06:51:25</td>\n",
       "    </tr>\n",
       "    <tr>\n",
       "      <th>16791</th>\n",
       "      <td>memes</td>\n",
       "      <td>guess they're gone forever now</td>\n",
       "      <td>235</td>\n",
       "      <td>4</td>\n",
       "      <td>2010-09-10 06:51:25</td>\n",
       "    </tr>\n",
       "    <tr>\n",
       "      <th>16792</th>\n",
       "      <td>Superstonk</td>\n",
       "      <td>JAN ‘21 apes attempting to purchase GameStop O...</td>\n",
       "      <td>3396</td>\n",
       "      <td>86</td>\n",
       "      <td>2010-09-10 06:51:25</td>\n",
       "    </tr>\n",
       "    <tr>\n",
       "      <th>16793</th>\n",
       "      <td>memes</td>\n",
       "      <td>I think there will be a problem</td>\n",
       "      <td>100</td>\n",
       "      <td>11</td>\n",
       "      <td>2010-09-10 06:51:25</td>\n",
       "    </tr>\n",
       "    <tr>\n",
       "      <th>16794</th>\n",
       "      <td>Superstonk</td>\n",
       "      <td>What part of ‘FREE MARKET’ do you all not unde...</td>\n",
       "      <td>369</td>\n",
       "      <td>118</td>\n",
       "      <td>2010-09-10 06:51:25</td>\n",
       "    </tr>\n",
       "  </tbody>\n",
       "</table>\n",
       "<p>16795 rows × 5 columns</p>\n",
       "</div>"
      ],
      "text/plain": [
       "                     sub                                              title  \\\n",
       "0      LeopardsAteMyFace                Did they really think he'd pay out?   \n",
       "1                   news  China drought causes Yangtze to dry up, sparki...   \n",
       "2            MadeMeSmile                                         He did it!   \n",
       "3                    aww                                  Loving the water.   \n",
       "4               politics  Biden vows to crack down on colleges 'jacking ...   \n",
       "...                  ...                                                ...   \n",
       "16790         Superstonk  Guess it's time to finally feed the bot. +1171...   \n",
       "16791              memes                     guess they're gone forever now   \n",
       "16792         Superstonk  JAN ‘21 apes attempting to purchase GameStop O...   \n",
       "16793              memes                    I think there will be a problem   \n",
       "16794         Superstonk  What part of ‘FREE MARKET’ do you all not unde...   \n",
       "\n",
       "       score  comments              created  \n",
       "0      20509      1031  2010-09-10 06:51:25  \n",
       "1      19660      1546  2010-09-10 06:51:25  \n",
       "2      86623       871  2010-09-10 06:51:25  \n",
       "3      13717       112  2010-09-10 06:51:25  \n",
       "4      44057      2259  2010-09-10 06:51:25  \n",
       "...      ...       ...                  ...  \n",
       "16790   1800        13  2010-09-10 06:51:25  \n",
       "16791    235         4  2010-09-10 06:51:25  \n",
       "16792   3396        86  2010-09-10 06:51:25  \n",
       "16793    100        11  2010-09-10 06:51:25  \n",
       "16794    369       118  2010-09-10 06:51:25  \n",
       "\n",
       "[16795 rows x 5 columns]"
      ]
     },
     "execution_count": 31,
     "metadata": {},
     "output_type": "execute_result"
    }
   ],
   "source": [
    "df"
   ]
  }
 ],
 "metadata": {
  "kernelspec": {
   "display_name": "Python 3 (ipykernel)",
   "language": "python",
   "name": "python3"
  },
  "language_info": {
   "codemirror_mode": {
    "name": "ipython",
    "version": 3
   },
   "file_extension": ".py",
   "mimetype": "text/x-python",
   "name": "python",
   "nbconvert_exporter": "python",
   "pygments_lexer": "ipython3",
   "version": "3.8.8"
  }
 },
 "nbformat": 4,
 "nbformat_minor": 5
}
