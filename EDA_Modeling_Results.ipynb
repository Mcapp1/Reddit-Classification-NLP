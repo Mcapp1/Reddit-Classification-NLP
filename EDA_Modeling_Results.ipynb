{
 "cells": [
  {
   "cell_type": "markdown",
   "id": "3b8b67f2",
   "metadata": {},
   "source": [
    "## Preliminary EDA"
   ]
  },
  {
   "cell_type": "code",
   "execution_count": 1,
   "id": "6c5e13b8",
   "metadata": {},
   "outputs": [],
   "source": [
    "import pandas as pd\n",
    "import numpy as np"
   ]
  },
  {
   "cell_type": "code",
   "execution_count": 2,
   "id": "9e81bd69",
   "metadata": {},
   "outputs": [],
   "source": [
    "df = pd.read_csv('data/reddit_complete.csv')"
   ]
  },
  {
   "cell_type": "code",
   "execution_count": 3,
   "id": "aba5e112",
   "metadata": {},
   "outputs": [
    {
     "data": {
      "text/html": [
       "<div>\n",
       "<style scoped>\n",
       "    .dataframe tbody tr th:only-of-type {\n",
       "        vertical-align: middle;\n",
       "    }\n",
       "\n",
       "    .dataframe tbody tr th {\n",
       "        vertical-align: top;\n",
       "    }\n",
       "\n",
       "    .dataframe thead th {\n",
       "        text-align: right;\n",
       "    }\n",
       "</style>\n",
       "<table border=\"1\" class=\"dataframe\">\n",
       "  <thead>\n",
       "    <tr style=\"text-align: right;\">\n",
       "      <th></th>\n",
       "      <th>sub</th>\n",
       "      <th>title</th>\n",
       "      <th>score</th>\n",
       "      <th>comments</th>\n",
       "      <th>created</th>\n",
       "    </tr>\n",
       "  </thead>\n",
       "  <tbody>\n",
       "    <tr>\n",
       "      <th>0</th>\n",
       "      <td>LeopardsAteMyFace</td>\n",
       "      <td>Did they really think he'd pay out?</td>\n",
       "      <td>20509</td>\n",
       "      <td>1031</td>\n",
       "      <td>2022-08-29 20:28:53</td>\n",
       "    </tr>\n",
       "    <tr>\n",
       "      <th>1</th>\n",
       "      <td>news</td>\n",
       "      <td>China drought causes Yangtze to dry up, sparki...</td>\n",
       "      <td>19660</td>\n",
       "      <td>1546</td>\n",
       "      <td>2022-08-29 19:15:21</td>\n",
       "    </tr>\n",
       "    <tr>\n",
       "      <th>2</th>\n",
       "      <td>MadeMeSmile</td>\n",
       "      <td>He did it!</td>\n",
       "      <td>86623</td>\n",
       "      <td>871</td>\n",
       "      <td>2022-08-29 18:46:11</td>\n",
       "    </tr>\n",
       "    <tr>\n",
       "      <th>3</th>\n",
       "      <td>aww</td>\n",
       "      <td>Loving the water.</td>\n",
       "      <td>13717</td>\n",
       "      <td>112</td>\n",
       "      <td>2022-08-29 19:47:36</td>\n",
       "    </tr>\n",
       "    <tr>\n",
       "      <th>4</th>\n",
       "      <td>politics</td>\n",
       "      <td>Biden vows to crack down on colleges 'jacking ...</td>\n",
       "      <td>44057</td>\n",
       "      <td>2259</td>\n",
       "      <td>2022-08-29 18:28:16</td>\n",
       "    </tr>\n",
       "  </tbody>\n",
       "</table>\n",
       "</div>"
      ],
      "text/plain": [
       "                 sub                                              title  \\\n",
       "0  LeopardsAteMyFace                Did they really think he'd pay out?   \n",
       "1               news  China drought causes Yangtze to dry up, sparki...   \n",
       "2        MadeMeSmile                                         He did it!   \n",
       "3                aww                                  Loving the water.   \n",
       "4           politics  Biden vows to crack down on colleges 'jacking ...   \n",
       "\n",
       "   score  comments              created  \n",
       "0  20509      1031  2022-08-29 20:28:53  \n",
       "1  19660      1546  2022-08-29 19:15:21  \n",
       "2  86623       871  2022-08-29 18:46:11  \n",
       "3  13717       112  2022-08-29 19:47:36  \n",
       "4  44057      2259  2022-08-29 18:28:16  "
      ]
     },
     "execution_count": 3,
     "metadata": {},
     "output_type": "execute_result"
    }
   ],
   "source": [
    "df.head()"
   ]
  },
  {
   "cell_type": "code",
   "execution_count": 4,
   "id": "bf1ec191",
   "metadata": {},
   "outputs": [
    {
     "data": {
      "text/plain": [
       "(16900, 5)"
      ]
     },
     "execution_count": 4,
     "metadata": {},
     "output_type": "execute_result"
    }
   ],
   "source": [
    "df.shape"
   ]
  },
  {
   "cell_type": "markdown",
   "id": "35b40b2a",
   "metadata": {},
   "source": [
    "### The goal is to run a model based on the vectorization of the dataframes titles. Ideally, the title text alone will be strong enough to predict whether or not a reddit post's comments will rise above or fall below the comment median of our data.\n",
    "\n",
    "### The data consists of:\n",
    "- **Subreddit**: Where the post was originally posted\n",
    "- **Title**: The title of the post\n",
    "- **Score**: The number of 'upvotes' the post has\n",
    "- **Comments**: The number of comments the post has\n",
    "- **Created**: When the post was originally created\n",
    "- **16900** posts were scrapped for observation"
   ]
  },
  {
   "cell_type": "markdown",
   "id": "3bba4829",
   "metadata": {},
   "source": [
    "https://praw.readthedocs.io/en/latest/code_overview/models/submission.html"
   ]
  },
  {
   "cell_type": "code",
   "execution_count": 5,
   "id": "4191169e",
   "metadata": {},
   "outputs": [
    {
     "data": {
      "text/plain": [
       "sub         0\n",
       "title       0\n",
       "score       0\n",
       "comments    0\n",
       "created     0\n",
       "dtype: int64"
      ]
     },
     "execution_count": 5,
     "metadata": {},
     "output_type": "execute_result"
    }
   ],
   "source": [
    "# checking nulls\n",
    "df.isnull().sum()"
   ]
  },
  {
   "cell_type": "code",
   "execution_count": 6,
   "id": "b6da7510",
   "metadata": {},
   "outputs": [
    {
     "data": {
      "text/plain": [
       "sub         object\n",
       "title       object\n",
       "score        int64\n",
       "comments     int64\n",
       "created     object\n",
       "dtype: object"
      ]
     },
     "execution_count": 6,
     "metadata": {},
     "output_type": "execute_result"
    }
   ],
   "source": [
    "# checking data types\n",
    "df.dtypes"
   ]
  },
  {
   "cell_type": "markdown",
   "id": "5eefbe8b",
   "metadata": {},
   "source": [
    "### Inserting a column to indicate the length of the title. This should help better visualize the posts we are dealing with as potentially identify missing values that weren't noticed otherwise"
   ]
  },
  {
   "cell_type": "code",
   "execution_count": 7,
   "id": "9820dc2b",
   "metadata": {},
   "outputs": [],
   "source": [
    "title_length = [len(each) for each in df.title]"
   ]
  },
  {
   "cell_type": "code",
   "execution_count": 8,
   "id": "2a5b1f62",
   "metadata": {},
   "outputs": [],
   "source": [
    "# inserting title lengths next to respective title\n",
    "df.insert(2,'title_length',title_length)"
   ]
  },
  {
   "cell_type": "code",
   "execution_count": 9,
   "id": "681c3656",
   "metadata": {},
   "outputs": [
    {
     "data": {
      "text/html": [
       "<div>\n",
       "<style scoped>\n",
       "    .dataframe tbody tr th:only-of-type {\n",
       "        vertical-align: middle;\n",
       "    }\n",
       "\n",
       "    .dataframe tbody tr th {\n",
       "        vertical-align: top;\n",
       "    }\n",
       "\n",
       "    .dataframe thead th {\n",
       "        text-align: right;\n",
       "    }\n",
       "</style>\n",
       "<table border=\"1\" class=\"dataframe\">\n",
       "  <thead>\n",
       "    <tr style=\"text-align: right;\">\n",
       "      <th></th>\n",
       "      <th>sub</th>\n",
       "      <th>title</th>\n",
       "      <th>title_length</th>\n",
       "      <th>score</th>\n",
       "      <th>comments</th>\n",
       "      <th>created</th>\n",
       "    </tr>\n",
       "  </thead>\n",
       "  <tbody>\n",
       "    <tr>\n",
       "      <th>0</th>\n",
       "      <td>LeopardsAteMyFace</td>\n",
       "      <td>Did they really think he'd pay out?</td>\n",
       "      <td>35</td>\n",
       "      <td>20509</td>\n",
       "      <td>1031</td>\n",
       "      <td>2022-08-29 20:28:53</td>\n",
       "    </tr>\n",
       "    <tr>\n",
       "      <th>1</th>\n",
       "      <td>news</td>\n",
       "      <td>China drought causes Yangtze to dry up, sparki...</td>\n",
       "      <td>71</td>\n",
       "      <td>19660</td>\n",
       "      <td>1546</td>\n",
       "      <td>2022-08-29 19:15:21</td>\n",
       "    </tr>\n",
       "    <tr>\n",
       "      <th>2</th>\n",
       "      <td>MadeMeSmile</td>\n",
       "      <td>He did it!</td>\n",
       "      <td>10</td>\n",
       "      <td>86623</td>\n",
       "      <td>871</td>\n",
       "      <td>2022-08-29 18:46:11</td>\n",
       "    </tr>\n",
       "    <tr>\n",
       "      <th>3</th>\n",
       "      <td>aww</td>\n",
       "      <td>Loving the water.</td>\n",
       "      <td>17</td>\n",
       "      <td>13717</td>\n",
       "      <td>112</td>\n",
       "      <td>2022-08-29 19:47:36</td>\n",
       "    </tr>\n",
       "    <tr>\n",
       "      <th>4</th>\n",
       "      <td>politics</td>\n",
       "      <td>Biden vows to crack down on colleges 'jacking ...</td>\n",
       "      <td>125</td>\n",
       "      <td>44057</td>\n",
       "      <td>2259</td>\n",
       "      <td>2022-08-29 18:28:16</td>\n",
       "    </tr>\n",
       "  </tbody>\n",
       "</table>\n",
       "</div>"
      ],
      "text/plain": [
       "                 sub                                              title  \\\n",
       "0  LeopardsAteMyFace                Did they really think he'd pay out?   \n",
       "1               news  China drought causes Yangtze to dry up, sparki...   \n",
       "2        MadeMeSmile                                         He did it!   \n",
       "3                aww                                  Loving the water.   \n",
       "4           politics  Biden vows to crack down on colleges 'jacking ...   \n",
       "\n",
       "   title_length  score  comments              created  \n",
       "0            35  20509      1031  2022-08-29 20:28:53  \n",
       "1            71  19660      1546  2022-08-29 19:15:21  \n",
       "2            10  86623       871  2022-08-29 18:46:11  \n",
       "3            17  13717       112  2022-08-29 19:47:36  \n",
       "4           125  44057      2259  2022-08-29 18:28:16  "
      ]
     },
     "execution_count": 9,
     "metadata": {},
     "output_type": "execute_result"
    }
   ],
   "source": [
    "df.head()"
   ]
  },
  {
   "cell_type": "markdown",
   "id": "6f544b71",
   "metadata": {},
   "source": [
    "## EDA and Prepping Data For Modeling\n",
    "- The objective is to observe distribution of the data \n",
    "- Notice outliers and handle appropriately\n",
    "- Ensure data has no duplicate posts"
   ]
  },
  {
   "cell_type": "code",
   "execution_count": 10,
   "id": "cb5cccc9",
   "metadata": {},
   "outputs": [
    {
     "data": {
      "text/html": [
       "<div>\n",
       "<style scoped>\n",
       "    .dataframe tbody tr th:only-of-type {\n",
       "        vertical-align: middle;\n",
       "    }\n",
       "\n",
       "    .dataframe tbody tr th {\n",
       "        vertical-align: top;\n",
       "    }\n",
       "\n",
       "    .dataframe thead th {\n",
       "        text-align: right;\n",
       "    }\n",
       "</style>\n",
       "<table border=\"1\" class=\"dataframe\">\n",
       "  <thead>\n",
       "    <tr style=\"text-align: right;\">\n",
       "      <th></th>\n",
       "      <th>title_length</th>\n",
       "      <th>score</th>\n",
       "      <th>comments</th>\n",
       "    </tr>\n",
       "  </thead>\n",
       "  <tbody>\n",
       "    <tr>\n",
       "      <th>count</th>\n",
       "      <td>16900.000000</td>\n",
       "      <td>16900.000000</td>\n",
       "      <td>16900.000000</td>\n",
       "    </tr>\n",
       "    <tr>\n",
       "      <th>mean</th>\n",
       "      <td>55.776213</td>\n",
       "      <td>23280.427574</td>\n",
       "      <td>544.865266</td>\n",
       "    </tr>\n",
       "    <tr>\n",
       "      <th>std</th>\n",
       "      <td>51.864715</td>\n",
       "      <td>53793.827393</td>\n",
       "      <td>1924.572484</td>\n",
       "    </tr>\n",
       "    <tr>\n",
       "      <th>min</th>\n",
       "      <td>1.000000</td>\n",
       "      <td>61.000000</td>\n",
       "      <td>0.000000</td>\n",
       "    </tr>\n",
       "    <tr>\n",
       "      <th>25%</th>\n",
       "      <td>22.000000</td>\n",
       "      <td>305.000000</td>\n",
       "      <td>15.000000</td>\n",
       "    </tr>\n",
       "    <tr>\n",
       "      <th>50%</th>\n",
       "      <td>40.000000</td>\n",
       "      <td>719.000000</td>\n",
       "      <td>46.000000</td>\n",
       "    </tr>\n",
       "    <tr>\n",
       "      <th>75%</th>\n",
       "      <td>71.000000</td>\n",
       "      <td>3031.000000</td>\n",
       "      <td>187.000000</td>\n",
       "    </tr>\n",
       "    <tr>\n",
       "      <th>max</th>\n",
       "      <td>300.000000</td>\n",
       "      <td>467439.000000</td>\n",
       "      <td>82153.000000</td>\n",
       "    </tr>\n",
       "  </tbody>\n",
       "</table>\n",
       "</div>"
      ],
      "text/plain": [
       "       title_length          score      comments\n",
       "count  16900.000000   16900.000000  16900.000000\n",
       "mean      55.776213   23280.427574    544.865266\n",
       "std       51.864715   53793.827393   1924.572484\n",
       "min        1.000000      61.000000      0.000000\n",
       "25%       22.000000     305.000000     15.000000\n",
       "50%       40.000000     719.000000     46.000000\n",
       "75%       71.000000    3031.000000    187.000000\n",
       "max      300.000000  467439.000000  82153.000000"
      ]
     },
     "execution_count": 10,
     "metadata": {},
     "output_type": "execute_result"
    }
   ],
   "source": [
    "df.describe()"
   ]
  },
  {
   "cell_type": "markdown",
   "id": "4b204d27",
   "metadata": {},
   "source": [
    "### Noticing the minimum amount of comments is 0, we can assume this is either due to the original creator of the post removing the ability to add comments, or because the post is still new that it hasn't been commented on yet"
   ]
  },
  {
   "cell_type": "code",
   "execution_count": 11,
   "id": "c2201ef3",
   "metadata": {},
   "outputs": [
    {
     "data": {
      "text/html": [
       "<div>\n",
       "<style scoped>\n",
       "    .dataframe tbody tr th:only-of-type {\n",
       "        vertical-align: middle;\n",
       "    }\n",
       "\n",
       "    .dataframe tbody tr th {\n",
       "        vertical-align: top;\n",
       "    }\n",
       "\n",
       "    .dataframe thead th {\n",
       "        text-align: right;\n",
       "    }\n",
       "</style>\n",
       "<table border=\"1\" class=\"dataframe\">\n",
       "  <thead>\n",
       "    <tr style=\"text-align: right;\">\n",
       "      <th></th>\n",
       "      <th>sub</th>\n",
       "      <th>title</th>\n",
       "      <th>title_length</th>\n",
       "      <th>score</th>\n",
       "      <th>comments</th>\n",
       "      <th>created</th>\n",
       "    </tr>\n",
       "  </thead>\n",
       "  <tbody>\n",
       "    <tr>\n",
       "      <th>1407</th>\n",
       "      <td>milanavayntrub</td>\n",
       "      <td>Cutie at a yahoo event</td>\n",
       "      <td>22</td>\n",
       "      <td>205</td>\n",
       "      <td>0</td>\n",
       "      <td>2022-08-29 22:23:42</td>\n",
       "    </tr>\n",
       "    <tr>\n",
       "      <th>1979</th>\n",
       "      <td>DontSubscribeDumbAss</td>\n",
       "      <td>UNBG. 🛻 Hey, Optimus Prime! 🛻 🚚</td>\n",
       "      <td>31</td>\n",
       "      <td>729</td>\n",
       "      <td>0</td>\n",
       "      <td>2022-08-29 13:44:25</td>\n",
       "    </tr>\n",
       "    <tr>\n",
       "      <th>2157</th>\n",
       "      <td>kpics</td>\n",
       "      <td>Joy</td>\n",
       "      <td>3</td>\n",
       "      <td>327</td>\n",
       "      <td>0</td>\n",
       "      <td>2022-08-29 17:41:37</td>\n",
       "    </tr>\n",
       "    <tr>\n",
       "      <th>2295</th>\n",
       "      <td>Catmemes</td>\n",
       "      <td>Vibe</td>\n",
       "      <td>4</td>\n",
       "      <td>164</td>\n",
       "      <td>0</td>\n",
       "      <td>2022-08-29 21:04:57</td>\n",
       "    </tr>\n",
       "    <tr>\n",
       "      <th>2381</th>\n",
       "      <td>Sadiesink</td>\n",
       "      <td>Doing her happy dance!</td>\n",
       "      <td>22</td>\n",
       "      <td>104</td>\n",
       "      <td>0</td>\n",
       "      <td>2022-08-29 23:14:36</td>\n",
       "    </tr>\n",
       "    <tr>\n",
       "      <th>...</th>\n",
       "      <td>...</td>\n",
       "      <td>...</td>\n",
       "      <td>...</td>\n",
       "      <td>...</td>\n",
       "      <td>...</td>\n",
       "      <td>...</td>\n",
       "    </tr>\n",
       "    <tr>\n",
       "      <th>16317</th>\n",
       "      <td>formuladank</td>\n",
       "      <td>When you're fighting with your brother and you...</td>\n",
       "      <td>68</td>\n",
       "      <td>162</td>\n",
       "      <td>0</td>\n",
       "      <td>2022-09-01 15:20:51</td>\n",
       "    </tr>\n",
       "    <tr>\n",
       "      <th>16576</th>\n",
       "      <td>tumblr</td>\n",
       "      <td>id give it to him on the house</td>\n",
       "      <td>30</td>\n",
       "      <td>254</td>\n",
       "      <td>0</td>\n",
       "      <td>2022-09-01 12:16:34</td>\n",
       "    </tr>\n",
       "    <tr>\n",
       "      <th>16690</th>\n",
       "      <td>memes</td>\n",
       "      <td>So true</td>\n",
       "      <td>7</td>\n",
       "      <td>274</td>\n",
       "      <td>0</td>\n",
       "      <td>2022-09-01 16:03:25</td>\n",
       "    </tr>\n",
       "    <tr>\n",
       "      <th>16840</th>\n",
       "      <td>memes</td>\n",
       "      <td>I do not own a cat...</td>\n",
       "      <td>21</td>\n",
       "      <td>128</td>\n",
       "      <td>0</td>\n",
       "      <td>2022-09-01 16:29:14</td>\n",
       "    </tr>\n",
       "    <tr>\n",
       "      <th>16861</th>\n",
       "      <td>memes</td>\n",
       "      <td>The back seats are a parallel universe</td>\n",
       "      <td>38</td>\n",
       "      <td>107</td>\n",
       "      <td>0</td>\n",
       "      <td>2022-09-01 17:06:55</td>\n",
       "    </tr>\n",
       "  </tbody>\n",
       "</table>\n",
       "<p>89 rows × 6 columns</p>\n",
       "</div>"
      ],
      "text/plain": [
       "                        sub  \\\n",
       "1407         milanavayntrub   \n",
       "1979   DontSubscribeDumbAss   \n",
       "2157                  kpics   \n",
       "2295               Catmemes   \n",
       "2381              Sadiesink   \n",
       "...                     ...   \n",
       "16317           formuladank   \n",
       "16576                tumblr   \n",
       "16690                 memes   \n",
       "16840                 memes   \n",
       "16861                 memes   \n",
       "\n",
       "                                                   title  title_length  score  \\\n",
       "1407                              Cutie at a yahoo event            22    205   \n",
       "1979                     UNBG. 🛻 Hey, Optimus Prime! 🛻 🚚            31    729   \n",
       "2157                                                 Joy             3    327   \n",
       "2295                                                Vibe             4    164   \n",
       "2381                              Doing her happy dance!            22    104   \n",
       "...                                                  ...           ...    ...   \n",
       "16317  When you're fighting with your brother and you...            68    162   \n",
       "16576                     id give it to him on the house            30    254   \n",
       "16690                                            So true             7    274   \n",
       "16840                              I do not own a cat...            21    128   \n",
       "16861             The back seats are a parallel universe            38    107   \n",
       "\n",
       "       comments              created  \n",
       "1407          0  2022-08-29 22:23:42  \n",
       "1979          0  2022-08-29 13:44:25  \n",
       "2157          0  2022-08-29 17:41:37  \n",
       "2295          0  2022-08-29 21:04:57  \n",
       "2381          0  2022-08-29 23:14:36  \n",
       "...         ...                  ...  \n",
       "16317         0  2022-09-01 15:20:51  \n",
       "16576         0  2022-09-01 12:16:34  \n",
       "16690         0  2022-09-01 16:03:25  \n",
       "16840         0  2022-09-01 16:29:14  \n",
       "16861         0  2022-09-01 17:06:55  \n",
       "\n",
       "[89 rows x 6 columns]"
      ]
     },
     "execution_count": 11,
     "metadata": {},
     "output_type": "execute_result"
    }
   ],
   "source": [
    "df[df.comments == 0]"
   ]
  },
  {
   "cell_type": "markdown",
   "id": "b7d383f9",
   "metadata": {},
   "source": [
    "### There are only 89 posts that do not have comments, we can simply continue without these posts since our model will perform based on the median number of comments on a post"
   ]
  },
  {
   "cell_type": "code",
   "execution_count": 12,
   "id": "f94568c6",
   "metadata": {},
   "outputs": [],
   "source": [
    "# Assigning to not equals zero instead of greater than to inspect any unexpected results that may show up\n",
    "df = df[df.comments != 0]"
   ]
  },
  {
   "cell_type": "code",
   "execution_count": 13,
   "id": "ab57d2e5",
   "metadata": {},
   "outputs": [
    {
     "data": {
      "text/plain": [
       "(16811, 6)"
      ]
     },
     "execution_count": 13,
     "metadata": {},
     "output_type": "execute_result"
    }
   ],
   "source": [
    "df.shape"
   ]
  },
  {
   "cell_type": "code",
   "execution_count": 14,
   "id": "751c173a",
   "metadata": {},
   "outputs": [
    {
     "data": {
      "text/html": [
       "<div>\n",
       "<style scoped>\n",
       "    .dataframe tbody tr th:only-of-type {\n",
       "        vertical-align: middle;\n",
       "    }\n",
       "\n",
       "    .dataframe tbody tr th {\n",
       "        vertical-align: top;\n",
       "    }\n",
       "\n",
       "    .dataframe thead th {\n",
       "        text-align: right;\n",
       "    }\n",
       "</style>\n",
       "<table border=\"1\" class=\"dataframe\">\n",
       "  <thead>\n",
       "    <tr style=\"text-align: right;\">\n",
       "      <th></th>\n",
       "      <th>title_length</th>\n",
       "      <th>score</th>\n",
       "      <th>comments</th>\n",
       "    </tr>\n",
       "  </thead>\n",
       "  <tbody>\n",
       "    <tr>\n",
       "      <th>count</th>\n",
       "      <td>16811.000000</td>\n",
       "      <td>16811.000000</td>\n",
       "      <td>16811.000000</td>\n",
       "    </tr>\n",
       "    <tr>\n",
       "      <th>mean</th>\n",
       "      <td>55.929154</td>\n",
       "      <td>23393.925049</td>\n",
       "      <td>547.749866</td>\n",
       "    </tr>\n",
       "    <tr>\n",
       "      <th>std</th>\n",
       "      <td>51.944471</td>\n",
       "      <td>53902.211647</td>\n",
       "      <td>1929.251075</td>\n",
       "    </tr>\n",
       "    <tr>\n",
       "      <th>min</th>\n",
       "      <td>1.000000</td>\n",
       "      <td>61.000000</td>\n",
       "      <td>1.000000</td>\n",
       "    </tr>\n",
       "    <tr>\n",
       "      <th>25%</th>\n",
       "      <td>22.000000</td>\n",
       "      <td>308.000000</td>\n",
       "      <td>16.000000</td>\n",
       "    </tr>\n",
       "    <tr>\n",
       "      <th>50%</th>\n",
       "      <td>40.000000</td>\n",
       "      <td>728.000000</td>\n",
       "      <td>47.000000</td>\n",
       "    </tr>\n",
       "    <tr>\n",
       "      <th>75%</th>\n",
       "      <td>71.000000</td>\n",
       "      <td>3062.000000</td>\n",
       "      <td>189.000000</td>\n",
       "    </tr>\n",
       "    <tr>\n",
       "      <th>max</th>\n",
       "      <td>300.000000</td>\n",
       "      <td>467439.000000</td>\n",
       "      <td>82153.000000</td>\n",
       "    </tr>\n",
       "  </tbody>\n",
       "</table>\n",
       "</div>"
      ],
      "text/plain": [
       "       title_length          score      comments\n",
       "count  16811.000000   16811.000000  16811.000000\n",
       "mean      55.929154   23393.925049    547.749866\n",
       "std       51.944471   53902.211647   1929.251075\n",
       "min        1.000000      61.000000      1.000000\n",
       "25%       22.000000     308.000000     16.000000\n",
       "50%       40.000000     728.000000     47.000000\n",
       "75%       71.000000    3062.000000    189.000000\n",
       "max      300.000000  467439.000000  82153.000000"
      ]
     },
     "execution_count": 14,
     "metadata": {},
     "output_type": "execute_result"
    }
   ],
   "source": [
    "df.describe()"
   ]
  },
  {
   "cell_type": "markdown",
   "id": "031279a6",
   "metadata": {},
   "source": [
    "#### Now the minimum amount of comments on a post is 1\n",
    "- Lets look into the distribution of our data further\n",
    "- We will scale comments and score due to disparity in both features "
   ]
  },
  {
   "cell_type": "code",
   "execution_count": 15,
   "id": "d2412b13",
   "metadata": {},
   "outputs": [],
   "source": [
    "import seaborn as sns\n",
    "import matplotlib.pyplot as plt"
   ]
  },
  {
   "cell_type": "code",
   "execution_count": 17,
   "id": "f41f185b",
   "metadata": {},
   "outputs": [
    {
     "data": {
      "image/png": "[encoded data removed]",
      "text/plain": [
       "<Figure size 1440x720 with 1 Axes>"
      ]
     },
     "metadata": {},
     "output_type": "display_data"
    }
   ],
   "source": [
    "ax = sns.histplot(df.comments,log_scale=True,\n",
    "             kde=True,color='indigo',bins=75)\n",
    "\n",
    "sns.histplot(df.score,color='goldenrod',\n",
    "             log_scale=True,kde=True,bins=75);\n",
    "\n",
    "sns.set(rc = {'figure.figsize':(20,10)});\n",
    "\n",
    "ax.set_title('Scaled Distibution of Comments and Post Score on Reddit Posts',\n",
    "             fontsize=24)\n",
    "ax.set_xlabel('Comments and Score', fontsize=20);\n",
    "ax.set_ylabel('Frequency', fontsize=20);\n",
    "\n",
    "plt.legend(loc='upper left', labels=['comments','score']);"
   ]
  },
  {
   "cell_type": "markdown",
   "id": "39a4cd0a",
   "metadata": {},
   "source": [
    "**Comments**\n",
    "- The distribution of comments depicts abnormal data for posts with lower comment totals. There are several gaps in the distribution of posts with lower comment totals that are worth looking into. Overall, the distrubtion of comments is skewed right and posts that have anywhere between 500-600 comments appear the most in the data set.\n",
    "- As of now:\n",
    "    - `Mean: 547 comments`\n",
    "    - `Median: 47 comments`\n",
    "- The disparity between mean and median may have to be addressed if the model is to run effeciently.\n",
    " \n",
    "**Scores**\n",
    "- There are no posts with a score below 61 in our data. Aside from a volatile spike in scores over 100,000 the distribution of scores remains skewed right. Majority of posts have scores ranging between 500-800. \n",
    "- As of now:\n",
    "    - `Mean: 23,393`\n",
    "    - `Median: 727`\n",
    "- The volatile spike disrupts the average of our scores. This spike is due to user quality error. In order to get enough reddit posts for our data, Reddits \"top posts of all time\" were scrapped as well. The influx of posts with scores over 100,000 are more than likely from the pool of all time posts. Interestingly, the same spike does not occur when looking at comments.\n",
    "- We will examine the data further to determine if these are outliers we want to get rid of. As we see just below, while posts with scores over 100,000 were likely scrapped from Reddits 'top posts all time' is not always true"
   ]
  },
  {
   "cell_type": "code",
   "execution_count": 18,
   "id": "5533a2a0",
   "metadata": {},
   "outputs": [
    {
     "data": {
      "text/html": [
       "<div>\n",
       "<style scoped>\n",
       "    .dataframe tbody tr th:only-of-type {\n",
       "        vertical-align: middle;\n",
       "    }\n",
       "\n",
       "    .dataframe tbody tr th {\n",
       "        vertical-align: top;\n",
       "    }\n",
       "\n",
       "    .dataframe thead th {\n",
       "        text-align: right;\n",
       "    }\n",
       "</style>\n",
       "<table border=\"1\" class=\"dataframe\">\n",
       "  <thead>\n",
       "    <tr style=\"text-align: right;\">\n",
       "      <th></th>\n",
       "      <th>sub</th>\n",
       "      <th>title</th>\n",
       "      <th>title_length</th>\n",
       "      <th>score</th>\n",
       "      <th>comments</th>\n",
       "      <th>created</th>\n",
       "    </tr>\n",
       "  </thead>\n",
       "  <tbody>\n",
       "    <tr>\n",
       "      <th>15656</th>\n",
       "      <td>MadeMeSmile</td>\n",
       "      <td>Jack Gleeson, who played King Joffrey on “Game...</td>\n",
       "      <td>150</td>\n",
       "      <td>177732</td>\n",
       "      <td>4413</td>\n",
       "      <td>2022-09-01 00:38:41</td>\n",
       "    </tr>\n",
       "    <tr>\n",
       "      <th>15076</th>\n",
       "      <td>aww</td>\n",
       "      <td>Petting the hands of an otter</td>\n",
       "      <td>29</td>\n",
       "      <td>128066</td>\n",
       "      <td>1518</td>\n",
       "      <td>2022-08-31 22:08:46</td>\n",
       "    </tr>\n",
       "    <tr>\n",
       "      <th>9519</th>\n",
       "      <td>pics</td>\n",
       "      <td>A rare African black leopard under the stars -...</td>\n",
       "      <td>87</td>\n",
       "      <td>154511</td>\n",
       "      <td>1831</td>\n",
       "      <td>2021-03-02 12:16:32</td>\n",
       "    </tr>\n",
       "    <tr>\n",
       "      <th>7399</th>\n",
       "      <td>gaming</td>\n",
       "      <td>boy gamer</td>\n",
       "      <td>9</td>\n",
       "      <td>220473</td>\n",
       "      <td>6597</td>\n",
       "      <td>2021-03-01 15:41:09</td>\n",
       "    </tr>\n",
       "    <tr>\n",
       "      <th>8444</th>\n",
       "      <td>memes</td>\n",
       "      <td>Nobody gives a fuck!</td>\n",
       "      <td>20</td>\n",
       "      <td>148348</td>\n",
       "      <td>1648</td>\n",
       "      <td>2021-03-01 12:51:25</td>\n",
       "    </tr>\n",
       "  </tbody>\n",
       "</table>\n",
       "</div>"
      ],
      "text/plain": [
       "               sub                                              title  \\\n",
       "15656  MadeMeSmile  Jack Gleeson, who played King Joffrey on “Game...   \n",
       "15076          aww                      Petting the hands of an otter   \n",
       "9519          pics  A rare African black leopard under the stars -...   \n",
       "7399        gaming                                          boy gamer   \n",
       "8444         memes                               Nobody gives a fuck!   \n",
       "\n",
       "       title_length   score  comments              created  \n",
       "15656           150  177732      4413  2022-09-01 00:38:41  \n",
       "15076            29  128066      1518  2022-08-31 22:08:46  \n",
       "9519             87  154511      1831  2021-03-02 12:16:32  \n",
       "7399              9  220473      6597  2021-03-01 15:41:09  \n",
       "8444             20  148348      1648  2021-03-01 12:51:25  "
      ]
     },
     "execution_count": 18,
     "metadata": {},
     "output_type": "execute_result"
    }
   ],
   "source": [
    "df[df.score > 100_000].sort_values(by='created',ascending=False).head()"
   ]
  },
  {
   "cell_type": "markdown",
   "id": "167885a2",
   "metadata": {},
   "source": [
    "### We don't need to scale the distribution of title lengths for our reddit posts as the distribution is legible as is"
   ]
  },
  {
   "cell_type": "code",
   "execution_count": 19,
   "id": "4eeb0b19",
   "metadata": {
    "scrolled": false
   },
   "outputs": [
    {
     "data": {
      "image/png": "[encoded data removed]",
      "text/plain": [
       "<Figure size 1440x720 with 1 Axes>"
      ]
     },
     "metadata": {},
     "output_type": "display_data"
    }
   ],
   "source": [
    "ax = sns.histplot(df.title_length,log_scale=False,\n",
    "                  kde=True,color='darkblue')\n",
    "sns.set(rc = {'figure.figsize':(20,8)});\n",
    "\n",
    "ax.set_title('Distribution of Title Lengths for Reddit Posts',fontsize=24)\n",
    "ax.set_xlabel('Length of Title', fontsize = 20);\n",
    "ax.set_ylabel('Frequency', fontsize=20);"
   ]
  },
  {
   "cell_type": "markdown",
   "id": "d7c0256b",
   "metadata": {},
   "source": [
    "**Title Length**\n",
    "- The distribution of title lenghts is skewed right. Most posts have a title length between 30-60 characters. It is worth noting our title length does count spaces as part of the length.\n",
    "- As of now:\n",
    "    - `Mean Length: 56 characters`\n",
    "    - `Median Length: 40 characters`"
   ]
  },
  {
   "cell_type": "markdown",
   "id": "6e83684a",
   "metadata": {},
   "source": [
    "## Checking relationships between data"
   ]
  },
  {
   "cell_type": "code",
   "execution_count": 21,
   "id": "b76de5f2",
   "metadata": {},
   "outputs": [
    {
     "data": {
      "image/png": "[encoded data removed]",
      "text/plain": [
       "<Figure size 864x432 with 2 Axes>"
      ]
     },
     "metadata": {},
     "output_type": "display_data"
    }
   ],
   "source": [
    "sns.heatmap(df.corr(),cmap='viridis',vmin = -1,annot=True);\n",
    "\n",
    "sns.set(rc = {'figure.figsize':(12,6)});"
   ]
  },
  {
   "cell_type": "code",
   "execution_count": 22,
   "id": "170725bd",
   "metadata": {},
   "outputs": [
    {
     "data": {
      "text/html": [
       "<div>\n",
       "<style scoped>\n",
       "    .dataframe tbody tr th:only-of-type {\n",
       "        vertical-align: middle;\n",
       "    }\n",
       "\n",
       "    .dataframe tbody tr th {\n",
       "        vertical-align: top;\n",
       "    }\n",
       "\n",
       "    .dataframe thead th {\n",
       "        text-align: right;\n",
       "    }\n",
       "</style>\n",
       "<table border=\"1\" class=\"dataframe\">\n",
       "  <thead>\n",
       "    <tr style=\"text-align: right;\">\n",
       "      <th></th>\n",
       "      <th>title_length</th>\n",
       "      <th>score</th>\n",
       "      <th>comments</th>\n",
       "    </tr>\n",
       "  </thead>\n",
       "  <tbody>\n",
       "    <tr>\n",
       "      <th>title_length</th>\n",
       "      <td>1.000000</td>\n",
       "      <td>0.049844</td>\n",
       "      <td>0.100559</td>\n",
       "    </tr>\n",
       "    <tr>\n",
       "      <th>comments</th>\n",
       "      <td>0.100559</td>\n",
       "      <td>0.584556</td>\n",
       "      <td>1.000000</td>\n",
       "    </tr>\n",
       "    <tr>\n",
       "      <th>score</th>\n",
       "      <td>0.049844</td>\n",
       "      <td>1.000000</td>\n",
       "      <td>0.584556</td>\n",
       "    </tr>\n",
       "  </tbody>\n",
       "</table>\n",
       "</div>"
      ],
      "text/plain": [
       "              title_length     score  comments\n",
       "title_length      1.000000  0.049844  0.100559\n",
       "comments          0.100559  0.584556  1.000000\n",
       "score             0.049844  1.000000  0.584556"
      ]
     },
     "execution_count": 22,
     "metadata": {},
     "output_type": "execute_result"
    }
   ],
   "source": [
    "df.corr().sort_values(by='score')"
   ]
  },
  {
   "cell_type": "markdown",
   "id": "c3d283c0",
   "metadata": {},
   "source": [
    "### There is a noticeably strong relationship between score and comments"
   ]
  },
  {
   "cell_type": "code",
   "execution_count": 23,
   "id": "cd17d29a",
   "metadata": {},
   "outputs": [
    {
     "data": {
      "image/png": "[encoded data removed]",
      "text/plain": [
       "<Figure size 864x432 with 1 Axes>"
      ]
     },
     "metadata": {},
     "output_type": "display_data"
    }
   ],
   "source": [
    "sns.scatterplot(x=df.score,y=df.comments);"
   ]
  },
  {
   "cell_type": "markdown",
   "id": "7f1d9f53",
   "metadata": {},
   "source": [
    "#### There is a linear relationship between score and comments. As comments or score increases, the other is expected to increase as well. This shouldn't affect our model as we aren't using score as a feature. Additionally, the spike we saw when viewing the distribution of scores and not seeing that same spike in comments is further seen here. There are only 3 posts which comments exceed 4000 and the majority of posts do not exceed 2000 comments"
   ]
  },
  {
   "cell_type": "markdown",
   "id": "606e2395",
   "metadata": {},
   "source": [
    "## Examining The Posts with Fewer Comments"
   ]
  },
  {
   "cell_type": "code",
   "execution_count": 24,
   "id": "3960eabd",
   "metadata": {},
   "outputs": [
    {
     "data": {
      "text/html": [
       "<div>\n",
       "<style scoped>\n",
       "    .dataframe tbody tr th:only-of-type {\n",
       "        vertical-align: middle;\n",
       "    }\n",
       "\n",
       "    .dataframe tbody tr th {\n",
       "        vertical-align: top;\n",
       "    }\n",
       "\n",
       "    .dataframe thead th {\n",
       "        text-align: right;\n",
       "    }\n",
       "</style>\n",
       "<table border=\"1\" class=\"dataframe\">\n",
       "  <thead>\n",
       "    <tr style=\"text-align: right;\">\n",
       "      <th></th>\n",
       "      <th>sub</th>\n",
       "      <th>title</th>\n",
       "      <th>title_length</th>\n",
       "      <th>score</th>\n",
       "      <th>comments</th>\n",
       "      <th>created</th>\n",
       "    </tr>\n",
       "  </thead>\n",
       "  <tbody>\n",
       "    <tr>\n",
       "      <th>7863</th>\n",
       "      <td>pics</td>\n",
       "      <td>Censorship Bad</td>\n",
       "      <td>14</td>\n",
       "      <td>158145</td>\n",
       "      <td>2</td>\n",
       "      <td>2019-08-21 23:48:48</td>\n",
       "    </tr>\n",
       "    <tr>\n",
       "      <th>8620</th>\n",
       "      <td>WhitePeopleTwitter</td>\n",
       "      <td>Shots have been fired (metaphorically of course)</td>\n",
       "      <td>48</td>\n",
       "      <td>142255</td>\n",
       "      <td>94</td>\n",
       "      <td>2020-11-06 18:14:13</td>\n",
       "    </tr>\n",
       "    <tr>\n",
       "      <th>4676</th>\n",
       "      <td>DunderMifflin</td>\n",
       "      <td>The Only Guilty Man in Shawshank</td>\n",
       "      <td>32</td>\n",
       "      <td>10287</td>\n",
       "      <td>98</td>\n",
       "      <td>2022-08-29 01:24:20</td>\n",
       "    </tr>\n",
       "    <tr>\n",
       "      <th>3915</th>\n",
       "      <td>Political_Revolution</td>\n",
       "      <td>Bernie is tired of your shit</td>\n",
       "      <td>28</td>\n",
       "      <td>5404</td>\n",
       "      <td>83</td>\n",
       "      <td>2022-08-29 01:27:55</td>\n",
       "    </tr>\n",
       "    <tr>\n",
       "      <th>6915</th>\n",
       "      <td>Hololive</td>\n",
       "      <td>[Baelz] Strategic Dialogue Box Placement</td>\n",
       "      <td>40</td>\n",
       "      <td>5283</td>\n",
       "      <td>60</td>\n",
       "      <td>2022-08-29 01:28:53</td>\n",
       "    </tr>\n",
       "  </tbody>\n",
       "</table>\n",
       "</div>"
      ],
      "text/plain": [
       "                       sub                                             title  \\\n",
       "7863                  pics                                    Censorship Bad   \n",
       "8620    WhitePeopleTwitter  Shots have been fired (metaphorically of course)   \n",
       "4676         DunderMifflin                  The Only Guilty Man in Shawshank   \n",
       "3915  Political_Revolution                      Bernie is tired of your shit   \n",
       "6915              Hololive          [Baelz] Strategic Dialogue Box Placement   \n",
       "\n",
       "      title_length   score  comments              created  \n",
       "7863            14  158145         2  2019-08-21 23:48:48  \n",
       "8620            48  142255        94  2020-11-06 18:14:13  \n",
       "4676            32   10287        98  2022-08-29 01:24:20  \n",
       "3915            28    5404        83  2022-08-29 01:27:55  \n",
       "6915            40    5283        60  2022-08-29 01:28:53  "
      ]
     },
     "execution_count": 24,
     "metadata": {},
     "output_type": "execute_result"
    }
   ],
   "source": [
    "df[df.comments < 100].sort_values(by='created').head()"
   ]
  },
  {
   "cell_type": "markdown",
   "id": "4a718ee4",
   "metadata": {},
   "source": [
    "#### Today's Date: 9/1/22\n",
    "\n",
    "#### The Histogram of comments displayed strange gaps on posts with around 70 or fewer comments. When investigating I decided to round up to 100 comments to ensure I don't miss any abnormalities. \n",
    "\n",
    "#### By viewing posts with comments under 100 associated with the date the post was created, we can see that there are only two posts that weren't created within the past week. Of those two posts, one which was created in 2020, has only two comments and is apart of the volatile spike in the scores greater than 100_000 represented on the scores histogram. We are going to remove this post from the data because based on the score, this post performed very well. The text of the post, while only two words \"Censorship Bad\" is important to remove as we don't want the model to believe this is performing poorly when according to the score, it is not. This appears to be an instance of the creator of the post disallowing comments.\n",
    "\n",
    "#### Realistically, removing this one post from this large data set won't have an immediate impact however as we continue to remove unwanted data, hopefully we do see an impact"
   ]
  },
  {
   "cell_type": "code",
   "execution_count": 25,
   "id": "35b97bf2",
   "metadata": {},
   "outputs": [],
   "source": [
    "df.drop(index=7863,inplace=True)"
   ]
  },
  {
   "cell_type": "markdown",
   "id": "46750f85",
   "metadata": {},
   "source": [
    "###  Viewing posts under the 25th percentile (16 comments) and a score greater than the 75th percentile (3061)"
   ]
  },
  {
   "cell_type": "code",
   "execution_count": 26,
   "id": "c807bdab",
   "metadata": {},
   "outputs": [
    {
     "data": {
      "text/html": [
       "<div>\n",
       "<style scoped>\n",
       "    .dataframe tbody tr th:only-of-type {\n",
       "        vertical-align: middle;\n",
       "    }\n",
       "\n",
       "    .dataframe tbody tr th {\n",
       "        vertical-align: top;\n",
       "    }\n",
       "\n",
       "    .dataframe thead th {\n",
       "        text-align: right;\n",
       "    }\n",
       "</style>\n",
       "<table border=\"1\" class=\"dataframe\">\n",
       "  <thead>\n",
       "    <tr style=\"text-align: right;\">\n",
       "      <th></th>\n",
       "      <th>sub</th>\n",
       "      <th>title</th>\n",
       "      <th>title_length</th>\n",
       "      <th>score</th>\n",
       "      <th>comments</th>\n",
       "      <th>created</th>\n",
       "    </tr>\n",
       "  </thead>\n",
       "  <tbody>\n",
       "    <tr>\n",
       "      <th>185</th>\n",
       "      <td>gravityfalls</td>\n",
       "      <td>This was just the perfect way to introduce her</td>\n",
       "      <td>46</td>\n",
       "      <td>3075</td>\n",
       "      <td>15</td>\n",
       "      <td>2022-08-29 17:06:18</td>\n",
       "    </tr>\n",
       "    <tr>\n",
       "      <th>455</th>\n",
       "      <td>wholesomegreentext</td>\n",
       "      <td>I don’t know if this is all that wholesome, bu...</td>\n",
       "      <td>77</td>\n",
       "      <td>4352</td>\n",
       "      <td>8</td>\n",
       "      <td>2022-08-29 11:43:49</td>\n",
       "    </tr>\n",
       "    <tr>\n",
       "      <th>463</th>\n",
       "      <td>OTMemes</td>\n",
       "      <td>So uncivilized</td>\n",
       "      <td>14</td>\n",
       "      <td>4900</td>\n",
       "      <td>9</td>\n",
       "      <td>2022-08-29 11:32:33</td>\n",
       "    </tr>\n",
       "    <tr>\n",
       "      <th>2193</th>\n",
       "      <td>whenthe</td>\n",
       "      <td>I sure will, Officer🤗</td>\n",
       "      <td>21</td>\n",
       "      <td>3088</td>\n",
       "      <td>12</td>\n",
       "      <td>2022-08-29 13:39:30</td>\n",
       "    </tr>\n",
       "    <tr>\n",
       "      <th>3218</th>\n",
       "      <td>MinecraftMemes</td>\n",
       "      <td>Me when I found out it doesn't listen to what ...</td>\n",
       "      <td>56</td>\n",
       "      <td>3819</td>\n",
       "      <td>15</td>\n",
       "      <td>2022-08-29 10:45:40</td>\n",
       "    </tr>\n",
       "    <tr>\n",
       "      <th>4012</th>\n",
       "      <td>marvelmemes</td>\n",
       "      <td>send it....</td>\n",
       "      <td>11</td>\n",
       "      <td>5559</td>\n",
       "      <td>14</td>\n",
       "      <td>2022-08-29 09:14:59</td>\n",
       "    </tr>\n",
       "    <tr>\n",
       "      <th>4164</th>\n",
       "      <td>blursedimages</td>\n",
       "      <td>Blursed Firecracker.</td>\n",
       "      <td>20</td>\n",
       "      <td>3306</td>\n",
       "      <td>15</td>\n",
       "      <td>2022-08-29 10:56:03</td>\n",
       "    </tr>\n",
       "    <tr>\n",
       "      <th>4364</th>\n",
       "      <td>lotrmemes</td>\n",
       "      <td>And they all turned to look at him</td>\n",
       "      <td>34</td>\n",
       "      <td>4785</td>\n",
       "      <td>15</td>\n",
       "      <td>2022-08-29 10:49:24</td>\n",
       "    </tr>\n",
       "    <tr>\n",
       "      <th>5109</th>\n",
       "      <td>wholesomememes</td>\n",
       "      <td>It's a D-ino-ecoration</td>\n",
       "      <td>22</td>\n",
       "      <td>5754</td>\n",
       "      <td>15</td>\n",
       "      <td>2022-08-29 10:15:20</td>\n",
       "    </tr>\n",
       "    <tr>\n",
       "      <th>5931</th>\n",
       "      <td>marvelmemes</td>\n",
       "      <td>The years haven't been kind to you Bruce</td>\n",
       "      <td>40</td>\n",
       "      <td>5980</td>\n",
       "      <td>10</td>\n",
       "      <td>2022-08-29 02:41:51</td>\n",
       "    </tr>\n",
       "    <tr>\n",
       "      <th>6192</th>\n",
       "      <td>dankmemes</td>\n",
       "      <td>Kono Powa</td>\n",
       "      <td>9</td>\n",
       "      <td>4657</td>\n",
       "      <td>11</td>\n",
       "      <td>2022-08-29 08:11:26</td>\n",
       "    </tr>\n",
       "    <tr>\n",
       "      <th>6255</th>\n",
       "      <td>PrequelMemes</td>\n",
       "      <td>I’m too weak!</td>\n",
       "      <td>13</td>\n",
       "      <td>3860</td>\n",
       "      <td>9</td>\n",
       "      <td>2022-08-29 05:18:38</td>\n",
       "    </tr>\n",
       "    <tr>\n",
       "      <th>7235</th>\n",
       "      <td>memes</td>\n",
       "      <td>Justin? Just in…</td>\n",
       "      <td>16</td>\n",
       "      <td>3182</td>\n",
       "      <td>14</td>\n",
       "      <td>2022-08-29 04:45:02</td>\n",
       "    </tr>\n",
       "    <tr>\n",
       "      <th>11681</th>\n",
       "      <td>MoldyMemes</td>\n",
       "      <td>Moldy baby</td>\n",
       "      <td>10</td>\n",
       "      <td>3096</td>\n",
       "      <td>12</td>\n",
       "      <td>2022-09-01 05:39:47</td>\n",
       "    </tr>\n",
       "    <tr>\n",
       "      <th>13077</th>\n",
       "      <td>aww</td>\n",
       "      <td>Fist bump with a cat</td>\n",
       "      <td>20</td>\n",
       "      <td>3376</td>\n",
       "      <td>10</td>\n",
       "      <td>2022-09-01 12:38:04</td>\n",
       "    </tr>\n",
       "    <tr>\n",
       "      <th>13385</th>\n",
       "      <td>blursedimages</td>\n",
       "      <td>blursed_hope</td>\n",
       "      <td>12</td>\n",
       "      <td>3703</td>\n",
       "      <td>14</td>\n",
       "      <td>2022-09-01 07:30:47</td>\n",
       "    </tr>\n",
       "    <tr>\n",
       "      <th>13440</th>\n",
       "      <td>blursedimages</td>\n",
       "      <td>blursed_hope</td>\n",
       "      <td>12</td>\n",
       "      <td>3702</td>\n",
       "      <td>14</td>\n",
       "      <td>2022-09-01 07:30:47</td>\n",
       "    </tr>\n",
       "    <tr>\n",
       "      <th>14823</th>\n",
       "      <td>cursedcomments</td>\n",
       "      <td>Cursed_Stage</td>\n",
       "      <td>12</td>\n",
       "      <td>4750</td>\n",
       "      <td>15</td>\n",
       "      <td>2022-09-01 06:06:43</td>\n",
       "    </tr>\n",
       "    <tr>\n",
       "      <th>14857</th>\n",
       "      <td>PrequelMemes</td>\n",
       "      <td>I AM the household</td>\n",
       "      <td>18</td>\n",
       "      <td>3470</td>\n",
       "      <td>13</td>\n",
       "      <td>2022-09-01 06:06:46</td>\n",
       "    </tr>\n",
       "    <tr>\n",
       "      <th>15114</th>\n",
       "      <td>dankmemes</td>\n",
       "      <td>Bye bye Putin</td>\n",
       "      <td>13</td>\n",
       "      <td>3502</td>\n",
       "      <td>15</td>\n",
       "      <td>2022-09-01 08:44:25</td>\n",
       "    </tr>\n",
       "    <tr>\n",
       "      <th>15408</th>\n",
       "      <td>blursedimages</td>\n",
       "      <td>blursed family reunion</td>\n",
       "      <td>22</td>\n",
       "      <td>8721</td>\n",
       "      <td>13</td>\n",
       "      <td>2022-08-31 22:14:29</td>\n",
       "    </tr>\n",
       "    <tr>\n",
       "      <th>15595</th>\n",
       "      <td>dankmemes</td>\n",
       "      <td>I AM the household</td>\n",
       "      <td>18</td>\n",
       "      <td>3748</td>\n",
       "      <td>5</td>\n",
       "      <td>2022-09-01 06:06:47</td>\n",
       "    </tr>\n",
       "    <tr>\n",
       "      <th>16053</th>\n",
       "      <td>memes</td>\n",
       "      <td>now to simultaneously eat and pass out</td>\n",
       "      <td>38</td>\n",
       "      <td>3312</td>\n",
       "      <td>6</td>\n",
       "      <td>2022-09-01 09:52:32</td>\n",
       "    </tr>\n",
       "    <tr>\n",
       "      <th>16472</th>\n",
       "      <td>memes</td>\n",
       "      <td>No one pulls like neutron does</td>\n",
       "      <td>30</td>\n",
       "      <td>4226</td>\n",
       "      <td>13</td>\n",
       "      <td>2022-09-01 06:37:13</td>\n",
       "    </tr>\n",
       "    <tr>\n",
       "      <th>16570</th>\n",
       "      <td>memes</td>\n",
       "      <td>I am a tasty snack</td>\n",
       "      <td>18</td>\n",
       "      <td>3486</td>\n",
       "      <td>12</td>\n",
       "      <td>2022-09-01 05:13:26</td>\n",
       "    </tr>\n",
       "  </tbody>\n",
       "</table>\n",
       "</div>"
      ],
      "text/plain": [
       "                      sub                                              title  \\\n",
       "185          gravityfalls     This was just the perfect way to introduce her   \n",
       "455    wholesomegreentext  I don’t know if this is all that wholesome, bu...   \n",
       "463               OTMemes                                     So uncivilized   \n",
       "2193              whenthe                              I sure will, Officer🤗   \n",
       "3218       MinecraftMemes  Me when I found out it doesn't listen to what ...   \n",
       "4012          marvelmemes                                        send it....   \n",
       "4164        blursedimages                               Blursed Firecracker.   \n",
       "4364            lotrmemes                 And they all turned to look at him   \n",
       "5109       wholesomememes                             It's a D-ino-ecoration   \n",
       "5931          marvelmemes           The years haven't been kind to you Bruce   \n",
       "6192            dankmemes                                          Kono Powa   \n",
       "6255         PrequelMemes                                      I’m too weak!   \n",
       "7235                memes                                   Justin? Just in…   \n",
       "11681          MoldyMemes                                         Moldy baby   \n",
       "13077                 aww                               Fist bump with a cat   \n",
       "13385       blursedimages                                       blursed_hope   \n",
       "13440       blursedimages                                       blursed_hope   \n",
       "14823      cursedcomments                                       Cursed_Stage   \n",
       "14857        PrequelMemes                                 I AM the household   \n",
       "15114           dankmemes                                      Bye bye Putin   \n",
       "15408       blursedimages                             blursed family reunion   \n",
       "15595           dankmemes                                 I AM the household   \n",
       "16053               memes             now to simultaneously eat and pass out   \n",
       "16472               memes                     No one pulls like neutron does   \n",
       "16570               memes                                 I am a tasty snack   \n",
       "\n",
       "       title_length  score  comments              created  \n",
       "185              46   3075        15  2022-08-29 17:06:18  \n",
       "455              77   4352         8  2022-08-29 11:43:49  \n",
       "463              14   4900         9  2022-08-29 11:32:33  \n",
       "2193             21   3088        12  2022-08-29 13:39:30  \n",
       "3218             56   3819        15  2022-08-29 10:45:40  \n",
       "4012             11   5559        14  2022-08-29 09:14:59  \n",
       "4164             20   3306        15  2022-08-29 10:56:03  \n",
       "4364             34   4785        15  2022-08-29 10:49:24  \n",
       "5109             22   5754        15  2022-08-29 10:15:20  \n",
       "5931             40   5980        10  2022-08-29 02:41:51  \n",
       "6192              9   4657        11  2022-08-29 08:11:26  \n",
       "6255             13   3860         9  2022-08-29 05:18:38  \n",
       "7235             16   3182        14  2022-08-29 04:45:02  \n",
       "11681            10   3096        12  2022-09-01 05:39:47  \n",
       "13077            20   3376        10  2022-09-01 12:38:04  \n",
       "13385            12   3703        14  2022-09-01 07:30:47  \n",
       "13440            12   3702        14  2022-09-01 07:30:47  \n",
       "14823            12   4750        15  2022-09-01 06:06:43  \n",
       "14857            18   3470        13  2022-09-01 06:06:46  \n",
       "15114            13   3502        15  2022-09-01 08:44:25  \n",
       "15408            22   8721        13  2022-08-31 22:14:29  \n",
       "15595            18   3748         5  2022-09-01 06:06:47  \n",
       "16053            38   3312         6  2022-09-01 09:52:32  \n",
       "16472            30   4226        13  2022-09-01 06:37:13  \n",
       "16570            18   3486        12  2022-09-01 05:13:26  "
      ]
     },
     "execution_count": 26,
     "metadata": {},
     "output_type": "execute_result"
    }
   ],
   "source": [
    "df.loc[(df.comments < 16) & (df.score > 3061)]"
   ]
  },
  {
   "cell_type": "markdown",
   "id": "bda5ad51",
   "metadata": {},
   "source": [
    "### For now I am hesitant to drop any columns under vague criteria as these are all new posts. We will run return to the data if we find our model isn't performing ideally. \n",
    "\n",
    "### What is noticed however is there are non alpha-numeric characters in the title text as well as emojis. We will be getting rid of any posts with non alpha-numeric characters. We will also get rid of any posts with emojis in our title text, though we may return to keep posts with emojis later if we believe they can be useful."
   ]
  },
  {
   "cell_type": "markdown",
   "id": "d333887d",
   "metadata": {},
   "source": [
    "## Non Alpha-Numeric Characters"
   ]
  },
  {
   "cell_type": "code",
   "execution_count": 27,
   "id": "6c62515a",
   "metadata": {},
   "outputs": [],
   "source": [
    "# Getting rid of nonalphanumeric text first\n",
    "df = df[df.title.str.contains(r'[^0-9a-zA-Z]')]\n",
    "\n",
    "# emoji's were strange to deal with so we will create a new column which strips\n",
    "# our title of any emojis\n",
    "df['no_emoji'] = df.title.apply(lambda x: x.encode('ascii', 'ignore').decode('ascii'))\n",
    "\n",
    "# dropping rows where title has emojis by keeping only titles that are equal to non-emoji equivalent\n",
    "df = df.iloc[np.where(df.title == df.no_emoji)]\n",
    "\n",
    "# dropping our no longer needed extra column\n",
    "df.drop(columns=['no_emoji'],inplace=True)"
   ]
  },
  {
   "cell_type": "code",
   "execution_count": 28,
   "id": "fb2f63d1",
   "metadata": {},
   "outputs": [
    {
     "data": {
      "text/html": [
       "<div>\n",
       "<style scoped>\n",
       "    .dataframe tbody tr th:only-of-type {\n",
       "        vertical-align: middle;\n",
       "    }\n",
       "\n",
       "    .dataframe tbody tr th {\n",
       "        vertical-align: top;\n",
       "    }\n",
       "\n",
       "    .dataframe thead th {\n",
       "        text-align: right;\n",
       "    }\n",
       "</style>\n",
       "<table border=\"1\" class=\"dataframe\">\n",
       "  <thead>\n",
       "    <tr style=\"text-align: right;\">\n",
       "      <th></th>\n",
       "      <th>sub</th>\n",
       "      <th>title</th>\n",
       "      <th>title_length</th>\n",
       "      <th>score</th>\n",
       "      <th>comments</th>\n",
       "      <th>created</th>\n",
       "    </tr>\n",
       "  </thead>\n",
       "  <tbody>\n",
       "    <tr>\n",
       "      <th>0</th>\n",
       "      <td>LeopardsAteMyFace</td>\n",
       "      <td>Did they really think he'd pay out?</td>\n",
       "      <td>35</td>\n",
       "      <td>20509</td>\n",
       "      <td>1031</td>\n",
       "      <td>2022-08-29 20:28:53</td>\n",
       "    </tr>\n",
       "    <tr>\n",
       "      <th>1</th>\n",
       "      <td>news</td>\n",
       "      <td>China drought causes Yangtze to dry up, sparki...</td>\n",
       "      <td>71</td>\n",
       "      <td>19660</td>\n",
       "      <td>1546</td>\n",
       "      <td>2022-08-29 19:15:21</td>\n",
       "    </tr>\n",
       "    <tr>\n",
       "      <th>2</th>\n",
       "      <td>MadeMeSmile</td>\n",
       "      <td>He did it!</td>\n",
       "      <td>10</td>\n",
       "      <td>86623</td>\n",
       "      <td>871</td>\n",
       "      <td>2022-08-29 18:46:11</td>\n",
       "    </tr>\n",
       "    <tr>\n",
       "      <th>3</th>\n",
       "      <td>aww</td>\n",
       "      <td>Loving the water.</td>\n",
       "      <td>17</td>\n",
       "      <td>13717</td>\n",
       "      <td>112</td>\n",
       "      <td>2022-08-29 19:47:36</td>\n",
       "    </tr>\n",
       "    <tr>\n",
       "      <th>4</th>\n",
       "      <td>politics</td>\n",
       "      <td>Biden vows to crack down on colleges 'jacking ...</td>\n",
       "      <td>125</td>\n",
       "      <td>44057</td>\n",
       "      <td>2259</td>\n",
       "      <td>2022-08-29 18:28:16</td>\n",
       "    </tr>\n",
       "  </tbody>\n",
       "</table>\n",
       "</div>"
      ],
      "text/plain": [
       "                 sub                                              title  \\\n",
       "0  LeopardsAteMyFace                Did they really think he'd pay out?   \n",
       "1               news  China drought causes Yangtze to dry up, sparki...   \n",
       "2        MadeMeSmile                                         He did it!   \n",
       "3                aww                                  Loving the water.   \n",
       "4           politics  Biden vows to crack down on colleges 'jacking ...   \n",
       "\n",
       "   title_length  score  comments              created  \n",
       "0            35  20509      1031  2022-08-29 20:28:53  \n",
       "1            71  19660      1546  2022-08-29 19:15:21  \n",
       "2            10  86623       871  2022-08-29 18:46:11  \n",
       "3            17  13717       112  2022-08-29 19:47:36  \n",
       "4           125  44057      2259  2022-08-29 18:28:16  "
      ]
     },
     "execution_count": 28,
     "metadata": {},
     "output_type": "execute_result"
    }
   ],
   "source": [
    "df.head()"
   ]
  },
  {
   "cell_type": "code",
   "execution_count": 29,
   "id": "eb4c3a75",
   "metadata": {},
   "outputs": [
    {
     "data": {
      "text/plain": [
       "(13488, 6)"
      ]
     },
     "execution_count": 29,
     "metadata": {},
     "output_type": "execute_result"
    }
   ],
   "source": [
    "df.shape"
   ]
  },
  {
   "cell_type": "markdown",
   "id": "dbab2c5a",
   "metadata": {},
   "source": [
    "## Dealing with duplicate titles:\n",
    "- A common theme with a popular post is posting the same post to multiple subreddits.\n",
    "- If the post is popular enough, the same post from multiple subreddits will reach the front page\n",
    "- We haven't dropped these yet but it is important to do so"
   ]
  },
  {
   "cell_type": "code",
   "execution_count": 30,
   "id": "21ceb62c",
   "metadata": {},
   "outputs": [
    {
     "data": {
      "text/html": [
       "<div>\n",
       "<style scoped>\n",
       "    .dataframe tbody tr th:only-of-type {\n",
       "        vertical-align: middle;\n",
       "    }\n",
       "\n",
       "    .dataframe tbody tr th {\n",
       "        vertical-align: top;\n",
       "    }\n",
       "\n",
       "    .dataframe thead th {\n",
       "        text-align: right;\n",
       "    }\n",
       "</style>\n",
       "<table border=\"1\" class=\"dataframe\">\n",
       "  <thead>\n",
       "    <tr style=\"text-align: right;\">\n",
       "      <th></th>\n",
       "      <th>sub</th>\n",
       "      <th>title</th>\n",
       "      <th>title_length</th>\n",
       "      <th>score</th>\n",
       "      <th>comments</th>\n",
       "      <th>created</th>\n",
       "    </tr>\n",
       "  </thead>\n",
       "  <tbody>\n",
       "    <tr>\n",
       "      <th>259</th>\n",
       "      <td>megalophobia</td>\n",
       "      <td>Burning Man Festival</td>\n",
       "      <td>20</td>\n",
       "      <td>10400</td>\n",
       "      <td>735</td>\n",
       "      <td>2022-08-29 10:51:26</td>\n",
       "    </tr>\n",
       "    <tr>\n",
       "      <th>393</th>\n",
       "      <td>Fuckthealtright</td>\n",
       "      <td>It's true and it's not a coincidence</td>\n",
       "      <td>36</td>\n",
       "      <td>2298</td>\n",
       "      <td>39</td>\n",
       "      <td>2022-08-29 15:13:53</td>\n",
       "    </tr>\n",
       "    <tr>\n",
       "      <th>597</th>\n",
       "      <td>me_irl</td>\n",
       "      <td>me_irl</td>\n",
       "      <td>6</td>\n",
       "      <td>2667</td>\n",
       "      <td>34</td>\n",
       "      <td>2022-08-29 16:48:14</td>\n",
       "    </tr>\n",
       "    <tr>\n",
       "      <th>600</th>\n",
       "      <td>toptalent</td>\n",
       "      <td>He makes this technique look so easy.</td>\n",
       "      <td>37</td>\n",
       "      <td>3903</td>\n",
       "      <td>59</td>\n",
       "      <td>2022-08-29 10:59:40</td>\n",
       "    </tr>\n",
       "    <tr>\n",
       "      <th>603</th>\n",
       "      <td>reallifedoodles</td>\n",
       "      <td>When Water Goes Bad</td>\n",
       "      <td>19</td>\n",
       "      <td>1790</td>\n",
       "      <td>28</td>\n",
       "      <td>2022-08-29 14:50:42</td>\n",
       "    </tr>\n",
       "    <tr>\n",
       "      <th>...</th>\n",
       "      <td>...</td>\n",
       "      <td>...</td>\n",
       "      <td>...</td>\n",
       "      <td>...</td>\n",
       "      <td>...</td>\n",
       "      <td>...</td>\n",
       "    </tr>\n",
       "    <tr>\n",
       "      <th>16759</th>\n",
       "      <td>politics</td>\n",
       "      <td>U.S. judge declines to rule now on Trump reque...</td>\n",
       "      <td>67</td>\n",
       "      <td>128</td>\n",
       "      <td>70</td>\n",
       "      <td>2022-09-01 19:11:30</td>\n",
       "    </tr>\n",
       "    <tr>\n",
       "      <th>16786</th>\n",
       "      <td>memes</td>\n",
       "      <td>Poor Americans</td>\n",
       "      <td>14</td>\n",
       "      <td>1310</td>\n",
       "      <td>37</td>\n",
       "      <td>2022-09-01 05:16:25</td>\n",
       "    </tr>\n",
       "    <tr>\n",
       "      <th>16791</th>\n",
       "      <td>politics</td>\n",
       "      <td>Oath Keepers' lawyer arrested in connection wi...</td>\n",
       "      <td>55</td>\n",
       "      <td>95</td>\n",
       "      <td>16</td>\n",
       "      <td>2022-09-01 19:57:53</td>\n",
       "    </tr>\n",
       "    <tr>\n",
       "      <th>16807</th>\n",
       "      <td>memes</td>\n",
       "      <td>Is it really true?</td>\n",
       "      <td>18</td>\n",
       "      <td>140</td>\n",
       "      <td>28</td>\n",
       "      <td>2022-09-01 16:30:30</td>\n",
       "    </tr>\n",
       "    <tr>\n",
       "      <th>16830</th>\n",
       "      <td>politics</td>\n",
       "      <td>Oath Keepers' lawyer arrested in connection wi...</td>\n",
       "      <td>55</td>\n",
       "      <td>157</td>\n",
       "      <td>7</td>\n",
       "      <td>2022-09-01 16:10:42</td>\n",
       "    </tr>\n",
       "  </tbody>\n",
       "</table>\n",
       "<p>582 rows × 6 columns</p>\n",
       "</div>"
      ],
      "text/plain": [
       "                   sub                                              title  \\\n",
       "259       megalophobia                               Burning Man Festival   \n",
       "393    Fuckthealtright               It's true and it's not a coincidence   \n",
       "597             me_irl                                             me_irl   \n",
       "600          toptalent              He makes this technique look so easy.   \n",
       "603    reallifedoodles                                When Water Goes Bad   \n",
       "...                ...                                                ...   \n",
       "16759         politics  U.S. judge declines to rule now on Trump reque...   \n",
       "16786            memes                                     Poor Americans   \n",
       "16791         politics  Oath Keepers' lawyer arrested in connection wi...   \n",
       "16807            memes                                 Is it really true?   \n",
       "16830         politics  Oath Keepers' lawyer arrested in connection wi...   \n",
       "\n",
       "       title_length  score  comments              created  \n",
       "259              20  10400       735  2022-08-29 10:51:26  \n",
       "393              36   2298        39  2022-08-29 15:13:53  \n",
       "597               6   2667        34  2022-08-29 16:48:14  \n",
       "600              37   3903        59  2022-08-29 10:59:40  \n",
       "603              19   1790        28  2022-08-29 14:50:42  \n",
       "...             ...    ...       ...                  ...  \n",
       "16759            67    128        70  2022-09-01 19:11:30  \n",
       "16786            14   1310        37  2022-09-01 05:16:25  \n",
       "16791            55     95        16  2022-09-01 19:57:53  \n",
       "16807            18    140        28  2022-09-01 16:30:30  \n",
       "16830            55    157         7  2022-09-01 16:10:42  \n",
       "\n",
       "[582 rows x 6 columns]"
      ]
     },
     "execution_count": 30,
     "metadata": {},
     "output_type": "execute_result"
    }
   ],
   "source": [
    "# identifying duplicate titles\n",
    "df[df.title.duplicated() ==True]"
   ]
  },
  {
   "cell_type": "code",
   "execution_count": 31,
   "id": "3c7d7ebf",
   "metadata": {},
   "outputs": [],
   "source": [
    "# dropping all duplicates aside from the default first occurrence\n",
    "df = df.drop_duplicates(subset='title', keep='first')"
   ]
  },
  {
   "cell_type": "code",
   "execution_count": 32,
   "id": "368211f0",
   "metadata": {},
   "outputs": [
    {
     "data": {
      "text/plain": [
       "(12906, 6)"
      ]
     },
     "execution_count": 32,
     "metadata": {},
     "output_type": "execute_result"
    }
   ],
   "source": [
    "df.shape"
   ]
  },
  {
   "cell_type": "markdown",
   "id": "3f5440ef",
   "metadata": {},
   "source": [
    "## Other non-discernable titles\n",
    "- Lastly we will be getting rid of titles with a length less than 4. A title length of 4, while only one word, can be a titled such as \"HOW?!\" and can be sufficient enough to capture whatever content the post contains allowing the post to score well"
   ]
  },
  {
   "cell_type": "code",
   "execution_count": 33,
   "id": "451e4f20",
   "metadata": {},
   "outputs": [],
   "source": [
    "df = df[df.title_length > 4]"
   ]
  },
  {
   "cell_type": "code",
   "execution_count": 34,
   "id": "3233f145",
   "metadata": {},
   "outputs": [
    {
     "data": {
      "text/plain": [
       "(12875, 6)"
      ]
     },
     "execution_count": 34,
     "metadata": {},
     "output_type": "execute_result"
    }
   ],
   "source": [
    "df.shape"
   ]
  },
  {
   "cell_type": "markdown",
   "id": "b1406cac",
   "metadata": {},
   "source": [
    "## Creating Target Column\n",
    "\n",
    "### Creating dummy column indicating whether or not a post is above or below the median comments. \n",
    "- We will use this column as our target"
   ]
  },
  {
   "cell_type": "code",
   "execution_count": 35,
   "id": "441a8ced",
   "metadata": {},
   "outputs": [
    {
     "data": {
      "text/html": [
       "<div>\n",
       "<style scoped>\n",
       "    .dataframe tbody tr th:only-of-type {\n",
       "        vertical-align: middle;\n",
       "    }\n",
       "\n",
       "    .dataframe tbody tr th {\n",
       "        vertical-align: top;\n",
       "    }\n",
       "\n",
       "    .dataframe thead th {\n",
       "        text-align: right;\n",
       "    }\n",
       "</style>\n",
       "<table border=\"1\" class=\"dataframe\">\n",
       "  <thead>\n",
       "    <tr style=\"text-align: right;\">\n",
       "      <th></th>\n",
       "      <th>title_length</th>\n",
       "      <th>score</th>\n",
       "      <th>comments</th>\n",
       "    </tr>\n",
       "  </thead>\n",
       "  <tbody>\n",
       "    <tr>\n",
       "      <th>count</th>\n",
       "      <td>12875.000000</td>\n",
       "      <td>12875.000000</td>\n",
       "      <td>12875.000000</td>\n",
       "    </tr>\n",
       "    <tr>\n",
       "      <th>mean</th>\n",
       "      <td>54.642796</td>\n",
       "      <td>26431.890252</td>\n",
       "      <td>605.851262</td>\n",
       "    </tr>\n",
       "    <tr>\n",
       "      <th>std</th>\n",
       "      <td>48.062904</td>\n",
       "      <td>56702.409523</td>\n",
       "      <td>2065.753663</td>\n",
       "    </tr>\n",
       "    <tr>\n",
       "      <th>min</th>\n",
       "      <td>5.000000</td>\n",
       "      <td>61.000000</td>\n",
       "      <td>1.000000</td>\n",
       "    </tr>\n",
       "    <tr>\n",
       "      <th>25%</th>\n",
       "      <td>23.000000</td>\n",
       "      <td>317.000000</td>\n",
       "      <td>16.000000</td>\n",
       "    </tr>\n",
       "    <tr>\n",
       "      <th>50%</th>\n",
       "      <td>40.000000</td>\n",
       "      <td>784.000000</td>\n",
       "      <td>50.000000</td>\n",
       "    </tr>\n",
       "    <tr>\n",
       "      <th>75%</th>\n",
       "      <td>68.000000</td>\n",
       "      <td>3798.000000</td>\n",
       "      <td>226.000000</td>\n",
       "    </tr>\n",
       "    <tr>\n",
       "      <th>max</th>\n",
       "      <td>300.000000</td>\n",
       "      <td>467439.000000</td>\n",
       "      <td>82153.000000</td>\n",
       "    </tr>\n",
       "  </tbody>\n",
       "</table>\n",
       "</div>"
      ],
      "text/plain": [
       "       title_length          score      comments\n",
       "count  12875.000000   12875.000000  12875.000000\n",
       "mean      54.642796   26431.890252    605.851262\n",
       "std       48.062904   56702.409523   2065.753663\n",
       "min        5.000000      61.000000      1.000000\n",
       "25%       23.000000     317.000000     16.000000\n",
       "50%       40.000000     784.000000     50.000000\n",
       "75%       68.000000    3798.000000    226.000000\n",
       "max      300.000000  467439.000000  82153.000000"
      ]
     },
     "execution_count": 35,
     "metadata": {},
     "output_type": "execute_result"
    }
   ],
   "source": [
    "df.describe()"
   ]
  },
  {
   "cell_type": "markdown",
   "id": "708e9db0",
   "metadata": {},
   "source": [
    "## Establishing Baseline"
   ]
  },
  {
   "cell_type": "code",
   "execution_count": 36,
   "id": "e596fe08",
   "metadata": {},
   "outputs": [],
   "source": [
    "# The median of comments is 50\n",
    "df['above_median'] = [1 if each > 50 else 0 for each in df.comments]"
   ]
  },
  {
   "cell_type": "code",
   "execution_count": 37,
   "id": "4b4929e5",
   "metadata": {},
   "outputs": [
    {
     "data": {
      "text/plain": [
       "0    0.502136\n",
       "1    0.497864\n",
       "Name: above_median, dtype: float64"
      ]
     },
     "execution_count": 37,
     "metadata": {},
     "output_type": "execute_result"
    }
   ],
   "source": [
    "# Our target baseline is 50 comments \n",
    "# There is a near 50/50 split for posts which have more or less than 50 comments per post\n",
    "# We are attempting to predict whether or not a post will have above or below 50 comments\n",
    "df.above_median.value_counts(normalize=True)"
   ]
  },
  {
   "cell_type": "markdown",
   "id": "7c9cce8d",
   "metadata": {},
   "source": [
    "## Train Test Split"
   ]
  },
  {
   "cell_type": "code",
   "execution_count": 38,
   "id": "b3e8a2d9",
   "metadata": {},
   "outputs": [],
   "source": [
    "from sklearn.linear_model import LogisticRegression \n",
    "from sklearn.model_selection import cross_val_score,train_test_split\n",
    "from sklearn.metrics import mean_squared_error, f1_score, ConfusionMatrixDisplay\n",
    "from sklearn.feature_extraction.text import CountVectorizer"
   ]
  },
  {
   "cell_type": "code",
   "execution_count": 132,
   "id": "c5d077f0",
   "metadata": {},
   "outputs": [],
   "source": [
    "X = df['title']\n",
    "\n",
    "y = df.above_median\n",
    "\n",
    "X_train, X_test, y_train, y_test = train_test_split(X, y, random_state=42,stratify=y)"
   ]
  },
  {
   "cell_type": "code",
   "execution_count": 40,
   "id": "a4014e50",
   "metadata": {},
   "outputs": [
    {
     "data": {
      "text/plain": [
       "((9656,), (3219,))"
      ]
     },
     "execution_count": 40,
     "metadata": {},
     "output_type": "execute_result"
    }
   ],
   "source": [
    "X_train.shape, X_test.shape"
   ]
  },
  {
   "cell_type": "code",
   "execution_count": 41,
   "id": "d788dad0",
   "metadata": {},
   "outputs": [
    {
     "data": {
      "text/plain": [
       "0    0.502175\n",
       "1    0.497825\n",
       "Name: above_median, dtype: float64"
      ]
     },
     "execution_count": 41,
     "metadata": {},
     "output_type": "execute_result"
    }
   ],
   "source": [
    "# Still 50/50 as expected\n",
    "y_train.value_counts(normalize=True)"
   ]
  },
  {
   "cell_type": "code",
   "execution_count": 42,
   "id": "8727b170",
   "metadata": {},
   "outputs": [
    {
     "data": {
      "text/plain": [
       "0    0.502019\n",
       "1    0.497981\n",
       "Name: above_median, dtype: float64"
      ]
     },
     "execution_count": 42,
     "metadata": {},
     "output_type": "execute_result"
    }
   ],
   "source": [
    "# Still 50/50 as expected\n",
    "y_test.value_counts(normalize=True)"
   ]
  },
  {
   "cell_type": "markdown",
   "id": "ee4ab3e3",
   "metadata": {},
   "source": [
    "# Modeling:\n",
    "- The first models will run with minimal hyperparameter tuning and no use of pipeline.\n",
    "- The purpose of interpreting the first few models with minimal hyperparameter tuning is to learn where the models need improvement as well as to visualize interpretations.\n",
    "- Once we understand where improvement is needed, we can run models with appropriate hyerparameters"
   ]
  },
  {
   "cell_type": "markdown",
   "id": "3a52872e",
   "metadata": {},
   "source": [
    "## First Model \n",
    "### Using Count Vectorizer"
   ]
  },
  {
   "cell_type": "code",
   "execution_count": 43,
   "id": "e129b71b",
   "metadata": {},
   "outputs": [],
   "source": [
    "# First model will run with the only hyperparameter being stop_words\n",
    "# We want all words to be lowercase to ensure all stop_words are captured\n",
    "cv = CountVectorizer(stop_words='english')\n",
    "\n",
    "cv.fit(X_train)\n",
    "\n",
    "X_train_cv = cv.transform(X_train)\n",
    "X_test_cv = cv.transform(X_test) "
   ]
  },
  {
   "cell_type": "code",
   "execution_count": 44,
   "id": "9617a578",
   "metadata": {},
   "outputs": [
    {
     "data": {
      "text/plain": [
       "((9656, 15752), (3219, 15752))"
      ]
     },
     "execution_count": 44,
     "metadata": {},
     "output_type": "execute_result"
    }
   ],
   "source": [
    "X_train_cv.shape, X_test_cv.shape"
   ]
  },
  {
   "cell_type": "code",
   "execution_count": 45,
   "id": "5b35ed3d",
   "metadata": {},
   "outputs": [],
   "source": [
    "# creating DataFrame of our features\n",
    "df_trial_1 = pd.DataFrame(X_train_cv.A, columns=cv.get_feature_names_out())"
   ]
  },
  {
   "cell_type": "code",
   "execution_count": 127,
   "id": "15bd3fb9",
   "metadata": {
    "scrolled": false
   },
   "outputs": [
    {
     "data": {
      "image/png": "[encoded data removed]",
      "text/plain": [
       "<Figure size 1440x576 with 1 Axes>"
      ]
     },
     "metadata": {},
     "output_type": "display_data"
    }
   ],
   "source": [
    "df_trial_1.sum().sort_values(ascending=False).head(15).plot(kind='barh');\n",
    "\n",
    "plt.title(\"15 Most Common Words From Reddit Title's\",fontsize=24)\n",
    "plt.xlabel('Occurences',fontsize=22)\n",
    "plt.ylabel('Word',fontsize=22);\n",
    "\n",
    "sns.set(rc = {'figure.figsize':(20,8)});\n",
    "\n",
    "sns.set(font_scale = 1.5)"
   ]
  },
  {
   "cell_type": "markdown",
   "id": "0b77b82e",
   "metadata": {},
   "source": [
    "### LogisticRegression Model On The Count Vectorized Data"
   ]
  },
  {
   "cell_type": "code",
   "execution_count": 47,
   "id": "59657fd6",
   "metadata": {},
   "outputs": [
    {
     "data": {
      "text/plain": [
       "(0.9086578293289147, 0.5967691829760795)"
      ]
     },
     "execution_count": 47,
     "metadata": {},
     "output_type": "execute_result"
    }
   ],
   "source": [
    "lr = LogisticRegression()\n",
    "\n",
    "lr.fit(X_train_cv,y_train)\n",
    "\n",
    "lr.score(X_train_cv,y_train), lr.score(X_test_cv,y_test)"
   ]
  },
  {
   "cell_type": "code",
   "execution_count": 48,
   "id": "e3607c01",
   "metadata": {},
   "outputs": [
    {
     "data": {
      "text/plain": [
       "(3219, 15752)"
      ]
     },
     "execution_count": 48,
     "metadata": {},
     "output_type": "execute_result"
    }
   ],
   "source": [
    "X_test_cv.shape"
   ]
  },
  {
   "cell_type": "code",
   "execution_count": 49,
   "id": "ec0c0930",
   "metadata": {},
   "outputs": [
    {
     "data": {
      "text/plain": [
       "array([0.56728778, 0.56499223, 0.59554635, 0.58001036, 0.58156396])"
      ]
     },
     "execution_count": 49,
     "metadata": {},
     "output_type": "execute_result"
    }
   ],
   "source": [
    "cross_val_score(lr,X_train_cv,y_train,cv=5)"
   ]
  },
  {
   "cell_type": "code",
   "execution_count": 50,
   "id": "a15c1a7b",
   "metadata": {},
   "outputs": [],
   "source": [
    "lr_preds = lr.predict(X_test_cv)"
   ]
  },
  {
   "cell_type": "markdown",
   "id": "d3c1441d",
   "metadata": {},
   "source": [
    "### Confusion Matrix\n",
    "- Using a confusion matrix will allow for easy calculations and interpretations of the accuracy, precision, recall and f1 scores of our model"
   ]
  },
  {
   "cell_type": "code",
   "execution_count": 51,
   "id": "f52a0e2b",
   "metadata": {
    "scrolled": false
   },
   "outputs": [
    {
     "data": {
      "image/png": "[encoded data removed]",
      "text/plain": [
       "<Figure size 1440x576 with 2 Axes>"
      ]
     },
     "metadata": {},
     "output_type": "display_data"
    }
   ],
   "source": [
    "ConfusionMatrixDisplay.from_estimator(lr, X_test_cv, y_test); "
   ]
  },
  {
   "cell_type": "markdown",
   "id": "41a318e3",
   "metadata": {},
   "source": [
    "Precision = TP / (TP + FP)\n",
    "\n",
    "Recall = TP / (TP + FN)\n",
    "\n",
    "recall: The Ratio of correctly predicted positives to all positives in the dataset\n",
    "\n",
    "precision: The ratio of correctly predicted positives to all predicted positives\n",
    "\n",
    "True Positive - Posts accurately predicted\n",
    "\n",
    "False Positive - Posts Predicted to be above median however aren't\n",
    "\n",
    "False Negative - Posts predicted to be below median however are above median\n",
    "\n",
    "True Negative - Posts below median"
   ]
  },
  {
   "cell_type": "code",
   "execution_count": 52,
   "id": "a76fb33d",
   "metadata": {},
   "outputs": [],
   "source": [
    "precision_cv = 1054 / (1054 + 562)\n",
    "recall_cv = 1054 / (1054 + 736)\n",
    "f1_cv = 2*(precision_cv*recall_cv) / (precision_cv+recall_cv)"
   ]
  },
  {
   "cell_type": "code",
   "execution_count": 53,
   "id": "bc4a0154",
   "metadata": {},
   "outputs": [
    {
     "name": "stdout",
     "output_type": "stream",
     "text": [
      "Precision: 0.6522277227722773\n",
      "Recall: 0.5888268156424581\n",
      "F1 Score: 0.6189078097475045\n"
     ]
    }
   ],
   "source": [
    "print('Precision:', precision_cv)\n",
    "print('Recall:', recall_cv)\n",
    "print('F1 Score:', f1_cv)"
   ]
  },
  {
   "cell_type": "markdown",
   "id": "a3a5634e",
   "metadata": {},
   "source": [
    "## First Model - Count Vectorizer - Interpretation\n",
    "- The initial test score ($r^2$) when using a count vectorizor with minimal hyperparameter tuning, accurately predicts 59% (1899 out of 3219 posts) of reddit posts for whether or not the comments on that post fall above or below the median (50 comments)\n",
    "- The issue we see is our training score is accurately predicting 90% of the data, indicative that the model is overfit, we can begin to fix this issue by getting rid of excess features\n",
    "\n",
    "- When viewing the confusion matrix of this model there are several interpretations to make. The recall, .59 means that 59% of predictions correctly predicted how many posts had comments above the median. To better expalain, if there were 200 posts and 100 of those posts had comment totals above the median, this model accurately predicted 59 of those 100 posts.\n",
    "- The precision of the first model is .65 meaning that 65% of predicted comments above the median were predicted correct."
   ]
  },
  {
   "cell_type": "markdown",
   "id": "7499521b",
   "metadata": {},
   "source": [
    "## Second Model\n",
    "### Using TF-ID Vectorizer \n",
    "- We will tune the second model with more hyperparameters\n",
    "- Limiting features by only selecting words that occur at least .008 (.8%) of the time.\n",
    "- Additionally changing the ngram_range to be (1,2) instead of (1,1)\n",
    "    - Vectorizer will interpret \"They did what?!\" as paired words (\"They did\", \"did what\") etc.\n",
    "    - The vectorizer should have a better understanding of how our text works this way"
   ]
  },
  {
   "cell_type": "code",
   "execution_count": 54,
   "id": "a18248d2",
   "metadata": {},
   "outputs": [],
   "source": [
    "from sklearn.feature_extraction.text import TfidfVectorizer"
   ]
  },
  {
   "cell_type": "code",
   "execution_count": 55,
   "id": "674924e0",
   "metadata": {},
   "outputs": [],
   "source": [
    "tfid = TfidfVectorizer(stop_words='english',\n",
    "                       max_df=.8,min_df=.008,\n",
    "                       ngram_range=(1,2))"
   ]
  },
  {
   "cell_type": "code",
   "execution_count": 56,
   "id": "7646733c",
   "metadata": {},
   "outputs": [
    {
     "data": {
      "text/html": [
       "<style>#sk-container-id-1 {color: black;background-color: white;}#sk-container-id-1 pre{padding: 0;}#sk-container-id-1 div.sk-toggleable {background-color: white;}#sk-container-id-1 label.sk-toggleable__label {cursor: pointer;display: block;width: 100%;margin-bottom: 0;padding: 0.3em;box-sizing: border-box;text-align: center;}#sk-container-id-1 label.sk-toggleable__label-arrow:before {content: \"▸\";float: left;margin-right: 0.25em;color: #696969;}#sk-container-id-1 label.sk-toggleable__label-arrow:hover:before {color: black;}#sk-container-id-1 div.sk-estimator:hover label.sk-toggleable__label-arrow:before {color: black;}#sk-container-id-1 div.sk-toggleable__content {max-height: 0;max-width: 0;overflow: hidden;text-align: left;background-color: #f0f8ff;}#sk-container-id-1 div.sk-toggleable__content pre {margin: 0.2em;color: black;border-radius: 0.25em;background-color: #f0f8ff;}#sk-container-id-1 input.sk-toggleable__control:checked~div.sk-toggleable__content {max-height: 200px;max-width: 100%;overflow: auto;}#sk-container-id-1 input.sk-toggleable__control:checked~label.sk-toggleable__label-arrow:before {content: \"▾\";}#sk-container-id-1 div.sk-estimator input.sk-toggleable__control:checked~label.sk-toggleable__label {background-color: #d4ebff;}#sk-container-id-1 div.sk-label input.sk-toggleable__control:checked~label.sk-toggleable__label {background-color: #d4ebff;}#sk-container-id-1 input.sk-hidden--visually {border: 0;clip: rect(1px 1px 1px 1px);clip: rect(1px, 1px, 1px, 1px);height: 1px;margin: -1px;overflow: hidden;padding: 0;position: absolute;width: 1px;}#sk-container-id-1 div.sk-estimator {font-family: monospace;background-color: #f0f8ff;border: 1px dotted black;border-radius: 0.25em;box-sizing: border-box;margin-bottom: 0.5em;}#sk-container-id-1 div.sk-estimator:hover {background-color: #d4ebff;}#sk-container-id-1 div.sk-parallel-item::after {content: \"\";width: 100%;border-bottom: 1px solid gray;flex-grow: 1;}#sk-container-id-1 div.sk-label:hover label.sk-toggleable__label {background-color: #d4ebff;}#sk-container-id-1 div.sk-serial::before {content: \"\";position: absolute;border-left: 1px solid gray;box-sizing: border-box;top: 0;bottom: 0;left: 50%;z-index: 0;}#sk-container-id-1 div.sk-serial {display: flex;flex-direction: column;align-items: center;background-color: white;padding-right: 0.2em;padding-left: 0.2em;position: relative;}#sk-container-id-1 div.sk-item {position: relative;z-index: 1;}#sk-container-id-1 div.sk-parallel {display: flex;align-items: stretch;justify-content: center;background-color: white;position: relative;}#sk-container-id-1 div.sk-item::before, #sk-container-id-1 div.sk-parallel-item::before {content: \"\";position: absolute;border-left: 1px solid gray;box-sizing: border-box;top: 0;bottom: 0;left: 50%;z-index: -1;}#sk-container-id-1 div.sk-parallel-item {display: flex;flex-direction: column;z-index: 1;position: relative;background-color: white;}#sk-container-id-1 div.sk-parallel-item:first-child::after {align-self: flex-end;width: 50%;}#sk-container-id-1 div.sk-parallel-item:last-child::after {align-self: flex-start;width: 50%;}#sk-container-id-1 div.sk-parallel-item:only-child::after {width: 0;}#sk-container-id-1 div.sk-dashed-wrapped {border: 1px dashed gray;margin: 0 0.4em 0.5em 0.4em;box-sizing: border-box;padding-bottom: 0.4em;background-color: white;}#sk-container-id-1 div.sk-label label {font-family: monospace;font-weight: bold;display: inline-block;line-height: 1.2em;}#sk-container-id-1 div.sk-label-container {text-align: center;}#sk-container-id-1 div.sk-container {/* jupyter's `normalize.less` sets `[hidden] { display: none; }` but bootstrap.min.css set `[hidden] { display: none !important; }` so we also need the `!important` here to be able to override the default hidden behavior on the sphinx rendered scikit-learn.org. See: https://github.com/scikit-learn/scikit-learn/issues/21755 */display: inline-block !important;position: relative;}#sk-container-id-1 div.sk-text-repr-fallback {display: none;}</style><div id=\"sk-container-id-1\" class=\"sk-top-container\"><div class=\"sk-text-repr-fallback\"><pre>TfidfVectorizer(max_df=0.8, min_df=0.008, ngram_range=(1, 2),\n",
       "                stop_words=&#x27;english&#x27;)</pre><b>In a Jupyter environment, please rerun this cell to show the HTML representation or trust the notebook. <br />On GitHub, the HTML representation is unable to render, please try loading this page with nbviewer.org.</b></div><div class=\"sk-container\" hidden><div class=\"sk-item\"><div class=\"sk-estimator sk-toggleable\"><input class=\"sk-toggleable__control sk-hidden--visually\" id=\"sk-estimator-id-1\" type=\"checkbox\" checked><label for=\"sk-estimator-id-1\" class=\"sk-toggleable__label sk-toggleable__label-arrow\">TfidfVectorizer</label><div class=\"sk-toggleable__content\"><pre>TfidfVectorizer(max_df=0.8, min_df=0.008, ngram_range=(1, 2),\n",
       "                stop_words=&#x27;english&#x27;)</pre></div></div></div></div></div>"
      ],
      "text/plain": [
       "TfidfVectorizer(max_df=0.8, min_df=0.008, ngram_range=(1, 2),\n",
       "                stop_words='english')"
      ]
     },
     "execution_count": 56,
     "metadata": {},
     "output_type": "execute_result"
    }
   ],
   "source": [
    "tfid.fit(X_train)"
   ]
  },
  {
   "cell_type": "code",
   "execution_count": 57,
   "id": "93e21ea7",
   "metadata": {},
   "outputs": [],
   "source": [
    "X_train_tfid = tfid.transform(X_train)\n",
    "X_test_tfid = tfid.transform(X_test)"
   ]
  },
  {
   "cell_type": "code",
   "execution_count": 58,
   "id": "89d00a13",
   "metadata": {},
   "outputs": [
    {
     "data": {
      "text/plain": [
       "((9656, 34), (3219, 34))"
      ]
     },
     "execution_count": 58,
     "metadata": {},
     "output_type": "execute_result"
    }
   ],
   "source": [
    "X_train_tfid.shape,X_test_tfid.shape"
   ]
  },
  {
   "cell_type": "code",
   "execution_count": 59,
   "id": "bb309425",
   "metadata": {},
   "outputs": [],
   "source": [
    "df_trial_2 = pd.DataFrame(X_train_tfid.A, columns=tfid.get_feature_names_out())"
   ]
  },
  {
   "cell_type": "code",
   "execution_count": 129,
   "id": "4592e9d2",
   "metadata": {
    "scrolled": false
   },
   "outputs": [
    {
     "data": {
      "image/png": "[encoded data removed]",
      "text/plain": [
       "<Figure size 1440x576 with 1 Axes>"
      ]
     },
     "metadata": {},
     "output_type": "display_data"
    }
   ],
   "source": [
    "df_trial_2.sum().sort_values(ascending=False).head(15).plot(kind='barh')\n",
    "\n",
    "plt.title('15 Most Common Words Using TF-ID',fontsize=20)\n",
    "plt.xlabel('Word Count',fontsize=20)\n",
    "plt.ylabel('Word',fontsize=20);\n",
    "\n",
    "sns.set(font_scale = 1.5)"
   ]
  },
  {
   "cell_type": "markdown",
   "id": "d9a1c2d2",
   "metadata": {},
   "source": [
    "### Logistic Regression Model Using TF - ID Vectorizer"
   ]
  },
  {
   "cell_type": "code",
   "execution_count": 61,
   "id": "d1097f04",
   "metadata": {},
   "outputs": [],
   "source": [
    "lr2 = LogisticRegression()"
   ]
  },
  {
   "cell_type": "code",
   "execution_count": 62,
   "id": "3e2fc7e5",
   "metadata": {},
   "outputs": [
    {
     "data": {
      "text/html": [
       "<style>#sk-container-id-2 {color: black;background-color: white;}#sk-container-id-2 pre{padding: 0;}#sk-container-id-2 div.sk-toggleable {background-color: white;}#sk-container-id-2 label.sk-toggleable__label {cursor: pointer;display: block;width: 100%;margin-bottom: 0;padding: 0.3em;box-sizing: border-box;text-align: center;}#sk-container-id-2 label.sk-toggleable__label-arrow:before {content: \"▸\";float: left;margin-right: 0.25em;color: #696969;}#sk-container-id-2 label.sk-toggleable__label-arrow:hover:before {color: black;}#sk-container-id-2 div.sk-estimator:hover label.sk-toggleable__label-arrow:before {color: black;}#sk-container-id-2 div.sk-toggleable__content {max-height: 0;max-width: 0;overflow: hidden;text-align: left;background-color: #f0f8ff;}#sk-container-id-2 div.sk-toggleable__content pre {margin: 0.2em;color: black;border-radius: 0.25em;background-color: #f0f8ff;}#sk-container-id-2 input.sk-toggleable__control:checked~div.sk-toggleable__content {max-height: 200px;max-width: 100%;overflow: auto;}#sk-container-id-2 input.sk-toggleable__control:checked~label.sk-toggleable__label-arrow:before {content: \"▾\";}#sk-container-id-2 div.sk-estimator input.sk-toggleable__control:checked~label.sk-toggleable__label {background-color: #d4ebff;}#sk-container-id-2 div.sk-label input.sk-toggleable__control:checked~label.sk-toggleable__label {background-color: #d4ebff;}#sk-container-id-2 input.sk-hidden--visually {border: 0;clip: rect(1px 1px 1px 1px);clip: rect(1px, 1px, 1px, 1px);height: 1px;margin: -1px;overflow: hidden;padding: 0;position: absolute;width: 1px;}#sk-container-id-2 div.sk-estimator {font-family: monospace;background-color: #f0f8ff;border: 1px dotted black;border-radius: 0.25em;box-sizing: border-box;margin-bottom: 0.5em;}#sk-container-id-2 div.sk-estimator:hover {background-color: #d4ebff;}#sk-container-id-2 div.sk-parallel-item::after {content: \"\";width: 100%;border-bottom: 1px solid gray;flex-grow: 1;}#sk-container-id-2 div.sk-label:hover label.sk-toggleable__label {background-color: #d4ebff;}#sk-container-id-2 div.sk-serial::before {content: \"\";position: absolute;border-left: 1px solid gray;box-sizing: border-box;top: 0;bottom: 0;left: 50%;z-index: 0;}#sk-container-id-2 div.sk-serial {display: flex;flex-direction: column;align-items: center;background-color: white;padding-right: 0.2em;padding-left: 0.2em;position: relative;}#sk-container-id-2 div.sk-item {position: relative;z-index: 1;}#sk-container-id-2 div.sk-parallel {display: flex;align-items: stretch;justify-content: center;background-color: white;position: relative;}#sk-container-id-2 div.sk-item::before, #sk-container-id-2 div.sk-parallel-item::before {content: \"\";position: absolute;border-left: 1px solid gray;box-sizing: border-box;top: 0;bottom: 0;left: 50%;z-index: -1;}#sk-container-id-2 div.sk-parallel-item {display: flex;flex-direction: column;z-index: 1;position: relative;background-color: white;}#sk-container-id-2 div.sk-parallel-item:first-child::after {align-self: flex-end;width: 50%;}#sk-container-id-2 div.sk-parallel-item:last-child::after {align-self: flex-start;width: 50%;}#sk-container-id-2 div.sk-parallel-item:only-child::after {width: 0;}#sk-container-id-2 div.sk-dashed-wrapped {border: 1px dashed gray;margin: 0 0.4em 0.5em 0.4em;box-sizing: border-box;padding-bottom: 0.4em;background-color: white;}#sk-container-id-2 div.sk-label label {font-family: monospace;font-weight: bold;display: inline-block;line-height: 1.2em;}#sk-container-id-2 div.sk-label-container {text-align: center;}#sk-container-id-2 div.sk-container {/* jupyter's `normalize.less` sets `[hidden] { display: none; }` but bootstrap.min.css set `[hidden] { display: none !important; }` so we also need the `!important` here to be able to override the default hidden behavior on the sphinx rendered scikit-learn.org. See: https://github.com/scikit-learn/scikit-learn/issues/21755 */display: inline-block !important;position: relative;}#sk-container-id-2 div.sk-text-repr-fallback {display: none;}</style><div id=\"sk-container-id-2\" class=\"sk-top-container\"><div class=\"sk-text-repr-fallback\"><pre>LogisticRegression()</pre><b>In a Jupyter environment, please rerun this cell to show the HTML representation or trust the notebook. <br />On GitHub, the HTML representation is unable to render, please try loading this page with nbviewer.org.</b></div><div class=\"sk-container\" hidden><div class=\"sk-item\"><div class=\"sk-estimator sk-toggleable\"><input class=\"sk-toggleable__control sk-hidden--visually\" id=\"sk-estimator-id-2\" type=\"checkbox\" checked><label for=\"sk-estimator-id-2\" class=\"sk-toggleable__label sk-toggleable__label-arrow\">LogisticRegression</label><div class=\"sk-toggleable__content\"><pre>LogisticRegression()</pre></div></div></div></div></div>"
      ],
      "text/plain": [
       "LogisticRegression()"
      ]
     },
     "execution_count": 62,
     "metadata": {},
     "output_type": "execute_result"
    }
   ],
   "source": [
    "lr2.fit(X_train_tfid,y_train)"
   ]
  },
  {
   "cell_type": "code",
   "execution_count": 63,
   "id": "748b710c",
   "metadata": {},
   "outputs": [
    {
     "data": {
      "text/plain": [
       "(0.5484672742336372, 0.5396085740913327)"
      ]
     },
     "execution_count": 63,
     "metadata": {},
     "output_type": "execute_result"
    }
   ],
   "source": [
    "lr2.score(X_train_tfid,y_train), lr2.score(X_test_tfid,y_test)"
   ]
  },
  {
   "cell_type": "code",
   "execution_count": 64,
   "id": "a6281474",
   "metadata": {},
   "outputs": [
    {
     "data": {
      "text/plain": [
       "array([0.52173913, 0.53288452, 0.54893837, 0.54738477, 0.54945624])"
      ]
     },
     "execution_count": 64,
     "metadata": {},
     "output_type": "execute_result"
    }
   ],
   "source": [
    "cross_val_score(lr2,X_train_tfid,y_train,cv=5)"
   ]
  },
  {
   "cell_type": "code",
   "execution_count": 66,
   "id": "d37087c3",
   "metadata": {
    "scrolled": false
   },
   "outputs": [
    {
     "data": {
      "image/png": "[encoded data removed]",
      "text/plain": [
       "<Figure size 1440x576 with 2 Axes>"
      ]
     },
     "metadata": {},
     "output_type": "display_data"
    }
   ],
   "source": [
    "ConfusionMatrixDisplay.from_estimator(lr2, X_test_tfid, y_test);"
   ]
  },
  {
   "cell_type": "markdown",
   "id": "1bc18afe",
   "metadata": {},
   "source": [
    "Precision = TP / (TP + FP)\n",
    "\n",
    "Recall = TP / (TP + FN)\n",
    "\n",
    "recall: The Ratio of correctly predicted positives to all positives in the dataset\n",
    "\n",
    "precision: The ratio of correctly predicted positives to all predicted positives\n",
    "\n",
    "True Positive - Posts accurately predicted\n",
    "\n",
    "False Positive - Posts Predicted to be above median however aren't\n",
    "\n",
    "False Negative - Posts predicted to be below median however are above median\n",
    "\n",
    "True Negative - Posts below median"
   ]
  },
  {
   "cell_type": "code",
   "execution_count": 67,
   "id": "be0a85e4",
   "metadata": {},
   "outputs": [],
   "source": [
    "precision_tfid = 1302 / (1302 + 314)\n",
    "recall_tfid = 1302 / (1302 + 1168)\n",
    "f1_tfid = 2*(precision_tfid*recall_tfid) / (precision_tfid+recall_tfid)"
   ]
  },
  {
   "cell_type": "code",
   "execution_count": 68,
   "id": "5d8e64a3",
   "metadata": {},
   "outputs": [
    {
     "name": "stdout",
     "output_type": "stream",
     "text": [
      "Precision: 0.8056930693069307\n",
      "Recall: 0.5271255060728745\n",
      "F1 Score: 0.6372980910425845\n"
     ]
    }
   ],
   "source": [
    "print('Precision:', precision_tfid)\n",
    "print('Recall:', recall_tfid)\n",
    "print('F1 Score:', f1_tfid)"
   ]
  },
  {
   "cell_type": "markdown",
   "id": "6dd2103d",
   "metadata": {},
   "source": [
    "### Second Model - TF-ID - Interpretation"
   ]
  },
  {
   "cell_type": "markdown",
   "id": "4d93a9ac",
   "metadata": {},
   "source": [
    "- The second model using TF-ID and a few more hyperparameters gives us a model that is nowhere near as overfit if at all overfit compared to the first model which is good. The accuracy of the model, 54% is slightly less than the first model however given that this model isn't overfit, we can consider this model to be performing better.\n",
    "- There are issues worth noting however first it is worth noting the precision of the model is 80%. 80% of posts predicted to be above the median were correcty predicted. However when viewing the False Negatives of the model, which are posts predicted to be below the median but are actually above the median, the model fails to capture a significant amount of posts that perform well. 1168 posts were predicted to fall below the median when in actuallity rise above the median. This is due to only using 34 features in the model from the hyperparameter tuning in the TF-ID. Having few features is bound to have the model miss posts that perform well.\n",
    "- On the flip side, the false positive, posts predicted to be above the target however aren't, is better captured by this model. 314 posts were predicted to be above the target median however aren't. A smaller number is expected here as the model likely saw a feature or features present in the post however the post did not perform as well as predicted."
   ]
  },
  {
   "cell_type": "markdown",
   "id": "88db7e56",
   "metadata": {},
   "source": [
    "## Pipeline over TF-ID\n",
    "- After learning what hyperparameters need tuning we can grid search over a pipeline to determine which parameters run best.\n",
    "- We will tune the min_df to lower values to capture more features\n",
    "- We will tune the max_features to a range of features to catch an appropriate value, we will not let the max features exceed 800 as to prevent overfitting"
   ]
  },
  {
   "cell_type": "code",
   "execution_count": 71,
   "id": "93cbe832",
   "metadata": {},
   "outputs": [],
   "source": [
    "from sklearn.pipeline import Pipeline\n",
    "from sklearn.model_selection import GridSearchCV\n",
    "from sklearn.ensemble import RandomForestClassifier"
   ]
  },
  {
   "cell_type": "code",
   "execution_count": 72,
   "id": "3b484d62",
   "metadata": {},
   "outputs": [
    {
     "name": "stdout",
     "output_type": "stream",
     "text": [
      "Fitting 5 folds for each of 48 candidates, totalling 240 fits\n"
     ]
    },
    {
     "data": {
      "text/plain": [
       "(0.6140223695111847, 0.5716060888474681)"
      ]
     },
     "execution_count": 72,
     "metadata": {},
     "output_type": "execute_result"
    }
   ],
   "source": [
    "pipe = Pipeline([\n",
    "    ('tf',TfidfVectorizer()),\n",
    "    ('lr',LogisticRegression())\n",
    "])\n",
    "\n",
    "pipe_params = {\n",
    "    'tf__min_df':[.002,.004,.006,.008],\n",
    "    'tf__max_features':[100,300,500,800],\n",
    "    'tf__ngram_range':[(1,1),(1,2),(1,3)],\n",
    "    'tf__stop_words':['english'] }\n",
    "\n",
    "gs = GridSearchCV(pipe, param_grid=pipe_params,\n",
    "                  verbose=1)\n",
    "\n",
    "gs.fit(X_train,y_train)\n",
    "gs.score(X_train, y_train), gs.score(X_test, y_test)"
   ]
  },
  {
   "cell_type": "code",
   "execution_count": 73,
   "id": "28582bed",
   "metadata": {},
   "outputs": [
    {
     "name": "stdout",
     "output_type": "stream",
     "text": [
      "Best Score: 0.564211250888575\n"
     ]
    },
    {
     "data": {
      "text/plain": [
       "{'tf__max_features': 500,\n",
       " 'tf__min_df': 0.002,\n",
       " 'tf__ngram_range': (1, 2),\n",
       " 'tf__stop_words': 'english'}"
      ]
     },
     "execution_count": 73,
     "metadata": {},
     "output_type": "execute_result"
    }
   ],
   "source": [
    "print('Best Score:',gs.best_score_)\n",
    "gs.best_params_"
   ]
  },
  {
   "cell_type": "code",
   "execution_count": 74,
   "id": "bea7865d",
   "metadata": {
    "scrolled": false
   },
   "outputs": [
    {
     "data": {
      "image/png": "[encoded data removed]",
      "text/plain": [
       "<Figure size 1440x576 with 2 Axes>"
      ]
     },
     "metadata": {},
     "output_type": "display_data"
    }
   ],
   "source": [
    "ConfusionMatrixDisplay.from_estimator(gs, X_test, y_test);"
   ]
  },
  {
   "cell_type": "code",
   "execution_count": 75,
   "id": "bc76d758",
   "metadata": {},
   "outputs": [
    {
     "name": "stdout",
     "output_type": "stream",
     "text": [
      "Precision: 0.655940594059406\n",
      "Recall: 0.562931492299522\n",
      "F1 Score: 0.6058873963989712\n"
     ]
    }
   ],
   "source": [
    "precision_gs = 1060 / (1060 + 556)\n",
    "recall_gs = 1060 / (1060 + 823)\n",
    "f1_gs = 2*(precision_gs*recall_gs) / (precision_gs+recall_gs)\n",
    "\n",
    "print('Precision:', precision_gs)\n",
    "print('Recall:', recall_gs)\n",
    "print('F1 Score:', f1_gs)"
   ]
  },
  {
   "cell_type": "code",
   "execution_count": 133,
   "id": "414b35c6",
   "metadata": {},
   "outputs": [
    {
     "name": "stdout",
     "output_type": "stream",
     "text": [
      "Fitting 5 folds for each of 12 candidates, totalling 60 fits\n"
     ]
    },
    {
     "data": {
      "text/plain": [
       "(0.7971209610604806, 0.5657036346691519)"
      ]
     },
     "execution_count": 133,
     "metadata": {},
     "output_type": "execute_result"
    }
   ],
   "source": [
    "pipe = Pipeline([\n",
    "    ('tf',TfidfVectorizer()),\n",
    "    ('rfc',RandomForestClassifier())\n",
    "])\n",
    "\n",
    "pipe_params = {\n",
    "    'tf__min_df':[.0,.002,.008],\n",
    "    'tf__max_features':[100,500],\n",
    "    'tf__ngram_range':[(1,1),(1,2)],\n",
    "    'tf__stop_words':['english'] }\n",
    "\n",
    "gs = GridSearchCV(pipe, param_grid=pipe_params,\n",
    "                  verbose=1)\n",
    "\n",
    "gs.fit(X_train,y_train)\n",
    "gs.score(X_train, y_train), gs.score(X_test, y_test)"
   ]
  },
  {
   "cell_type": "code",
   "execution_count": 134,
   "id": "882d5f68",
   "metadata": {
    "scrolled": false
   },
   "outputs": [
    {
     "name": "stdout",
     "output_type": "stream",
     "text": [
      "0.5752928411136593\n"
     ]
    },
    {
     "data": {
      "text/plain": [
       "{'tf__max_features': 500,\n",
       " 'tf__min_df': 0.0,\n",
       " 'tf__ngram_range': (1, 1),\n",
       " 'tf__stop_words': 'english'}"
      ]
     },
     "execution_count": 134,
     "metadata": {},
     "output_type": "execute_result"
    }
   ],
   "source": [
    "print(gs.best_score_)\n",
    "gs.best_params_"
   ]
  },
  {
   "cell_type": "code",
   "execution_count": 135,
   "id": "4ffaa66f",
   "metadata": {},
   "outputs": [
    {
     "data": {
      "image/png": "[encoded data removed]",
      "text/plain": [
       "<Figure size 1440x576 with 2 Axes>"
      ]
     },
     "metadata": {},
     "output_type": "display_data"
    }
   ],
   "source": [
    "ConfusionMatrixDisplay.from_estimator(gs, X_test, y_test);"
   ]
  },
  {
   "cell_type": "code",
   "execution_count": 136,
   "id": "f02a1613",
   "metadata": {},
   "outputs": [
    {
     "name": "stdout",
     "output_type": "stream",
     "text": [
      "Precision: 0.6361386138613861\n",
      "Recall: 0.55930359085963\n",
      "F1 Score: 0.5952518818760858\n"
     ]
    }
   ],
   "source": [
    "precision_gs2 = 1028 / (1028 + 588)\n",
    "recall_gs2 = 1028 / (1028 + 810)\n",
    "f1_gs2 = 2*(precision_gs2*recall_gs2) / (precision_gs2+recall_gs2)\n",
    "\n",
    "print('Precision:', precision_gs2)\n",
    "print('Recall:', recall_gs2)\n",
    "print('F1 Score:', f1_gs2)"
   ]
  },
  {
   "cell_type": "markdown",
   "id": "e40eca5d",
   "metadata": {},
   "source": [
    "## GridSearch - Model 3 - Interpretation"
   ]
  },
  {
   "cell_type": "markdown",
   "id": "e2e03838",
   "metadata": {},
   "source": [
    "**Logisitic Regression**\n",
    "- The Recall tells us that we are accurately predicting 56% of our predicted posts above the target. Additionally the model is not overfit and has an accuracy of 57% when predicting whether a post will rise above or below the comment median. This is our best running model as of now.\n",
    "\n",
    "**RandomForestClassifier**\n",
    "- The RFC Model wants to keep extracting as many features as possible, this will result in an overfit model which can be seen with the training score of .79 and test score of .57 and this is ran under hyperparameter tuning with attempts to prevent overfitting."
   ]
  },
  {
   "cell_type": "markdown",
   "id": "bbb98c25",
   "metadata": {},
   "source": [
    "## Defining Subreddits With Highest Total Score\n",
    "- In attempt to get a more accurate model, we are going to test soley on the subreddits with the highest total scores. \n",
    "- Ideally we run a stronger model on our new DataFrame and translate the features of the new model to the original DataFrame"
   ]
  },
  {
   "cell_type": "code",
   "execution_count": 78,
   "id": "771f9c91",
   "metadata": {},
   "outputs": [
    {
     "data": {
      "text/html": [
       "<div>\n",
       "<style scoped>\n",
       "    .dataframe tbody tr th:only-of-type {\n",
       "        vertical-align: middle;\n",
       "    }\n",
       "\n",
       "    .dataframe tbody tr th {\n",
       "        vertical-align: top;\n",
       "    }\n",
       "\n",
       "    .dataframe thead th {\n",
       "        text-align: right;\n",
       "    }\n",
       "</style>\n",
       "<table border=\"1\" class=\"dataframe\">\n",
       "  <thead>\n",
       "    <tr style=\"text-align: right;\">\n",
       "      <th></th>\n",
       "      <th>score</th>\n",
       "      <th>comments</th>\n",
       "    </tr>\n",
       "    <tr>\n",
       "      <th>sub</th>\n",
       "      <th></th>\n",
       "      <th></th>\n",
       "    </tr>\n",
       "  </thead>\n",
       "  <tbody>\n",
       "    <tr>\n",
       "      <th>memes</th>\n",
       "      <td>68241166</td>\n",
       "      <td>501291</td>\n",
       "    </tr>\n",
       "    <tr>\n",
       "      <th>pics</th>\n",
       "      <td>53765768</td>\n",
       "      <td>1425229</td>\n",
       "    </tr>\n",
       "    <tr>\n",
       "      <th>funny</th>\n",
       "      <td>28574130</td>\n",
       "      <td>454182</td>\n",
       "    </tr>\n",
       "    <tr>\n",
       "      <th>aww</th>\n",
       "      <td>23747016</td>\n",
       "      <td>256172</td>\n",
       "    </tr>\n",
       "    <tr>\n",
       "      <th>nextfuckinglevel</th>\n",
       "      <td>18695545</td>\n",
       "      <td>292842</td>\n",
       "    </tr>\n",
       "  </tbody>\n",
       "</table>\n",
       "</div>"
      ],
      "text/plain": [
       "                     score  comments\n",
       "sub                                 \n",
       "memes             68241166    501291\n",
       "pics              53765768   1425229\n",
       "funny             28574130    454182\n",
       "aww               23747016    256172\n",
       "nextfuckinglevel  18695545    292842"
      ]
     },
     "execution_count": 78,
     "metadata": {},
     "output_type": "execute_result"
    }
   ],
   "source": [
    "df.groupby('sub').sum()[['score','comments']].sort_values(by='score',ascending=False).head()"
   ]
  },
  {
   "cell_type": "code",
   "execution_count": 79,
   "id": "0853c921",
   "metadata": {},
   "outputs": [],
   "source": [
    "top_subs = df.loc[df['sub'].isin(['memes','pics','funny','aww','nextfuckinglevel'])]"
   ]
  },
  {
   "cell_type": "markdown",
   "id": "fe29c0fb",
   "metadata": {},
   "source": [
    "### Creating New Median Column"
   ]
  },
  {
   "cell_type": "code",
   "execution_count": 80,
   "id": "305a2cb3",
   "metadata": {},
   "outputs": [
    {
     "data": {
      "text/html": [
       "<div>\n",
       "<style scoped>\n",
       "    .dataframe tbody tr th:only-of-type {\n",
       "        vertical-align: middle;\n",
       "    }\n",
       "\n",
       "    .dataframe tbody tr th {\n",
       "        vertical-align: top;\n",
       "    }\n",
       "\n",
       "    .dataframe thead th {\n",
       "        text-align: right;\n",
       "    }\n",
       "</style>\n",
       "<table border=\"1\" class=\"dataframe\">\n",
       "  <thead>\n",
       "    <tr style=\"text-align: right;\">\n",
       "      <th></th>\n",
       "      <th>title_length</th>\n",
       "      <th>score</th>\n",
       "      <th>comments</th>\n",
       "      <th>above_median</th>\n",
       "    </tr>\n",
       "  </thead>\n",
       "  <tbody>\n",
       "    <tr>\n",
       "      <th>count</th>\n",
       "      <td>1565.000000</td>\n",
       "      <td>1565.000000</td>\n",
       "      <td>1565.000000</td>\n",
       "      <td>1565.000000</td>\n",
       "    </tr>\n",
       "    <tr>\n",
       "      <th>mean</th>\n",
       "      <td>50.337380</td>\n",
       "      <td>123337.779553</td>\n",
       "      <td>1872.023003</td>\n",
       "      <td>0.876677</td>\n",
       "    </tr>\n",
       "    <tr>\n",
       "      <th>std</th>\n",
       "      <td>43.527543</td>\n",
       "      <td>62974.925969</td>\n",
       "      <td>2096.187352</td>\n",
       "      <td>0.328912</td>\n",
       "    </tr>\n",
       "    <tr>\n",
       "      <th>min</th>\n",
       "      <td>7.000000</td>\n",
       "      <td>71.000000</td>\n",
       "      <td>1.000000</td>\n",
       "      <td>0.000000</td>\n",
       "    </tr>\n",
       "    <tr>\n",
       "      <th>25%</th>\n",
       "      <td>20.000000</td>\n",
       "      <td>128092.000000</td>\n",
       "      <td>635.000000</td>\n",
       "      <td>1.000000</td>\n",
       "    </tr>\n",
       "    <tr>\n",
       "      <th>50%</th>\n",
       "      <td>35.000000</td>\n",
       "      <td>137662.000000</td>\n",
       "      <td>1311.000000</td>\n",
       "      <td>1.000000</td>\n",
       "    </tr>\n",
       "    <tr>\n",
       "      <th>75%</th>\n",
       "      <td>68.000000</td>\n",
       "      <td>155227.000000</td>\n",
       "      <td>2401.000000</td>\n",
       "      <td>1.000000</td>\n",
       "    </tr>\n",
       "    <tr>\n",
       "      <th>max</th>\n",
       "      <td>299.000000</td>\n",
       "      <td>369073.000000</td>\n",
       "      <td>26560.000000</td>\n",
       "      <td>1.000000</td>\n",
       "    </tr>\n",
       "  </tbody>\n",
       "</table>\n",
       "</div>"
      ],
      "text/plain": [
       "       title_length          score      comments  above_median\n",
       "count   1565.000000    1565.000000   1565.000000   1565.000000\n",
       "mean      50.337380  123337.779553   1872.023003      0.876677\n",
       "std       43.527543   62974.925969   2096.187352      0.328912\n",
       "min        7.000000      71.000000      1.000000      0.000000\n",
       "25%       20.000000  128092.000000    635.000000      1.000000\n",
       "50%       35.000000  137662.000000   1311.000000      1.000000\n",
       "75%       68.000000  155227.000000   2401.000000      1.000000\n",
       "max      299.000000  369073.000000  26560.000000      1.000000"
      ]
     },
     "execution_count": 80,
     "metadata": {},
     "output_type": "execute_result"
    }
   ],
   "source": [
    "top_subs.describe()"
   ]
  },
  {
   "cell_type": "code",
   "execution_count": 81,
   "id": "1cc83281",
   "metadata": {},
   "outputs": [
    {
     "name": "stderr",
     "output_type": "stream",
     "text": [
      "/var/folders/pj/j8qg9t055bx9yt_m61ngrhyh0000gn/T/ipykernel_2792/2329479427.py:2: SettingWithCopyWarning: \n",
      "A value is trying to be set on a copy of a slice from a DataFrame.\n",
      "Try using .loc[row_indexer,col_indexer] = value instead\n",
      "\n",
      "See the caveats in the documentation: https://pandas.pydata.org/pandas-docs/stable/user_guide/indexing.html#returning-a-view-versus-a-copy\n",
      "  top_subs['above_median'] = topsubs_median_comments\n"
     ]
    }
   ],
   "source": [
    "topsubs_median_comments = [1 if each > 1311 else 0 for each in top_subs.comments]\n",
    "top_subs['above_median'] = topsubs_median_comments"
   ]
  },
  {
   "cell_type": "code",
   "execution_count": 82,
   "id": "8190d83f",
   "metadata": {},
   "outputs": [
    {
     "data": {
      "text/html": [
       "<div>\n",
       "<style scoped>\n",
       "    .dataframe tbody tr th:only-of-type {\n",
       "        vertical-align: middle;\n",
       "    }\n",
       "\n",
       "    .dataframe tbody tr th {\n",
       "        vertical-align: top;\n",
       "    }\n",
       "\n",
       "    .dataframe thead th {\n",
       "        text-align: right;\n",
       "    }\n",
       "</style>\n",
       "<table border=\"1\" class=\"dataframe\">\n",
       "  <thead>\n",
       "    <tr style=\"text-align: right;\">\n",
       "      <th></th>\n",
       "      <th>sub</th>\n",
       "      <th>title</th>\n",
       "      <th>title_length</th>\n",
       "      <th>score</th>\n",
       "      <th>comments</th>\n",
       "      <th>created</th>\n",
       "      <th>above_median</th>\n",
       "    </tr>\n",
       "  </thead>\n",
       "  <tbody>\n",
       "    <tr>\n",
       "      <th>3</th>\n",
       "      <td>aww</td>\n",
       "      <td>Loving the water.</td>\n",
       "      <td>17</td>\n",
       "      <td>13717</td>\n",
       "      <td>112</td>\n",
       "      <td>2022-08-29 19:47:36</td>\n",
       "      <td>0</td>\n",
       "    </tr>\n",
       "    <tr>\n",
       "      <th>7</th>\n",
       "      <td>nextfuckinglevel</td>\n",
       "      <td>I fly racing drones for a living and i chased ...</td>\n",
       "      <td>100</td>\n",
       "      <td>46305</td>\n",
       "      <td>903</td>\n",
       "      <td>2022-08-29 18:05:24</td>\n",
       "      <td>0</td>\n",
       "    </tr>\n",
       "    <tr>\n",
       "      <th>15</th>\n",
       "      <td>memes</td>\n",
       "      <td>Nature can be so beautiful sometimes</td>\n",
       "      <td>36</td>\n",
       "      <td>25782</td>\n",
       "      <td>94</td>\n",
       "      <td>2022-08-29 17:17:11</td>\n",
       "      <td>0</td>\n",
       "    </tr>\n",
       "    <tr>\n",
       "      <th>31</th>\n",
       "      <td>funny</td>\n",
       "      <td>Looks like a Survey Pilot's last day today</td>\n",
       "      <td>42</td>\n",
       "      <td>4392</td>\n",
       "      <td>121</td>\n",
       "      <td>2022-08-29 20:34:03</td>\n",
       "      <td>0</td>\n",
       "    </tr>\n",
       "    <tr>\n",
       "      <th>98</th>\n",
       "      <td>pics</td>\n",
       "      <td>[OC] I made this Heisenberg drawing after watc...</td>\n",
       "      <td>82</td>\n",
       "      <td>27420</td>\n",
       "      <td>698</td>\n",
       "      <td>2022-08-29 12:50:56</td>\n",
       "      <td>0</td>\n",
       "    </tr>\n",
       "    <tr>\n",
       "      <th>...</th>\n",
       "      <td>...</td>\n",
       "      <td>...</td>\n",
       "      <td>...</td>\n",
       "      <td>...</td>\n",
       "      <td>...</td>\n",
       "      <td>...</td>\n",
       "      <td>...</td>\n",
       "    </tr>\n",
       "    <tr>\n",
       "      <th>16855</th>\n",
       "      <td>memes</td>\n",
       "      <td>I need to know how he conducts the break up</td>\n",
       "      <td>43</td>\n",
       "      <td>550</td>\n",
       "      <td>10</td>\n",
       "      <td>2022-09-01 08:02:33</td>\n",
       "      <td>0</td>\n",
       "    </tr>\n",
       "    <tr>\n",
       "      <th>16858</th>\n",
       "      <td>memes</td>\n",
       "      <td>amogus.</td>\n",
       "      <td>7</td>\n",
       "      <td>99</td>\n",
       "      <td>4</td>\n",
       "      <td>2022-09-01 17:20:34</td>\n",
       "      <td>0</td>\n",
       "    </tr>\n",
       "    <tr>\n",
       "      <th>16863</th>\n",
       "      <td>memes</td>\n",
       "      <td>Only wrong answers</td>\n",
       "      <td>18</td>\n",
       "      <td>101</td>\n",
       "      <td>322</td>\n",
       "      <td>2022-09-01 18:02:30</td>\n",
       "      <td>0</td>\n",
       "    </tr>\n",
       "    <tr>\n",
       "      <th>16866</th>\n",
       "      <td>memes</td>\n",
       "      <td>Call it</td>\n",
       "      <td>7</td>\n",
       "      <td>302</td>\n",
       "      <td>13</td>\n",
       "      <td>2022-09-01 11:09:58</td>\n",
       "      <td>0</td>\n",
       "    </tr>\n",
       "    <tr>\n",
       "      <th>16868</th>\n",
       "      <td>memes</td>\n",
       "      <td>the duality of man</td>\n",
       "      <td>18</td>\n",
       "      <td>456</td>\n",
       "      <td>16</td>\n",
       "      <td>2022-09-01 09:00:14</td>\n",
       "      <td>0</td>\n",
       "    </tr>\n",
       "  </tbody>\n",
       "</table>\n",
       "<p>1565 rows × 7 columns</p>\n",
       "</div>"
      ],
      "text/plain": [
       "                    sub                                              title  \\\n",
       "3                   aww                                  Loving the water.   \n",
       "7      nextfuckinglevel  I fly racing drones for a living and i chased ...   \n",
       "15                memes               Nature can be so beautiful sometimes   \n",
       "31                funny         Looks like a Survey Pilot's last day today   \n",
       "98                 pics  [OC] I made this Heisenberg drawing after watc...   \n",
       "...                 ...                                                ...   \n",
       "16855             memes        I need to know how he conducts the break up   \n",
       "16858             memes                                            amogus.   \n",
       "16863             memes                                 Only wrong answers   \n",
       "16866             memes                                            Call it   \n",
       "16868             memes                                 the duality of man   \n",
       "\n",
       "       title_length  score  comments              created  above_median  \n",
       "3                17  13717       112  2022-08-29 19:47:36             0  \n",
       "7               100  46305       903  2022-08-29 18:05:24             0  \n",
       "15               36  25782        94  2022-08-29 17:17:11             0  \n",
       "31               42   4392       121  2022-08-29 20:34:03             0  \n",
       "98               82  27420       698  2022-08-29 12:50:56             0  \n",
       "...             ...    ...       ...                  ...           ...  \n",
       "16855            43    550        10  2022-09-01 08:02:33             0  \n",
       "16858             7     99         4  2022-09-01 17:20:34             0  \n",
       "16863            18    101       322  2022-09-01 18:02:30             0  \n",
       "16866             7    302        13  2022-09-01 11:09:58             0  \n",
       "16868            18    456        16  2022-09-01 09:00:14             0  \n",
       "\n",
       "[1565 rows x 7 columns]"
      ]
     },
     "execution_count": 82,
     "metadata": {},
     "output_type": "execute_result"
    }
   ],
   "source": [
    "top_subs"
   ]
  },
  {
   "cell_type": "code",
   "execution_count": 83,
   "id": "f3508396",
   "metadata": {},
   "outputs": [
    {
     "data": {
      "text/plain": [
       "0    0.500319\n",
       "1    0.499681\n",
       "Name: above_median, dtype: float64"
      ]
     },
     "execution_count": 83,
     "metadata": {},
     "output_type": "execute_result"
    }
   ],
   "source": [
    "top_subs.above_median.value_counts(normalize=True)"
   ]
  },
  {
   "cell_type": "code",
   "execution_count": 85,
   "id": "410efeae",
   "metadata": {
    "scrolled": false
   },
   "outputs": [
    {
     "data": {
      "image/png": "[encoded data removed]",
      "text/plain": [
       "<Figure size 864x576 with 1 Axes>"
      ]
     },
     "metadata": {},
     "output_type": "display_data"
    }
   ],
   "source": [
    "ax = sns.histplot(top_subs.comments,kde=True,\n",
    "                  log_scale=True,color='indigo',\n",
    "                  bins=45)\n",
    "\n",
    "ax.set_title(\"Scaled Distibution of Comments for Subreddit 'Memes'\",fontsize=24)\n",
    "ax.set_xlabel('Comments', fontsize=20);\n",
    "ax.set_ylabel('Frequency', fontsize=20);\n",
    "\n",
    "sns.set(rc = {'figure.figsize':(12,8)});"
   ]
  },
  {
   "cell_type": "code",
   "execution_count": 86,
   "id": "fff1bc9a",
   "metadata": {},
   "outputs": [
    {
     "data": {
      "image/png": "[encoded data removed]",
      "text/plain": [
       "<Figure size 864x576 with 1 Axes>"
      ]
     },
     "metadata": {},
     "output_type": "display_data"
    }
   ],
   "source": [
    "ax = sns.histplot(top_subs.score,color='goldenrod',kde=True,\n",
    "             bins=45);\n",
    "\n",
    "ax.set_title(\"Distibution of Score for Top Subreddits\",fontsize=24)\n",
    "ax.set_xlabel('Score', fontsize=20);\n",
    "ax.set_ylabel('Frequency', fontsize=20);\n",
    "\n",
    "sns.set(rc = {'figure.figsize':(12,8)});"
   ]
  },
  {
   "cell_type": "markdown",
   "id": "70eb1003",
   "metadata": {},
   "source": [
    "- The comments however are highest in frequency near 1000-2000 comments. The median of comments in these subreddits are also much closer to the mean compared to the entirety of the data\n",
    "- The scores of these subreddits are our top scoring subreddits therefore we are viewing that volatile spike mentioned earlier\n",
    "- As of now:\n",
    "    - Comments:\n",
    "    - `Mean: 1311`\n",
    "    - `Median: 1872`"
   ]
  },
  {
   "cell_type": "markdown",
   "id": "911a2f95",
   "metadata": {},
   "source": [
    "## Train Test Split"
   ]
  },
  {
   "cell_type": "code",
   "execution_count": 140,
   "id": "f72545a7",
   "metadata": {},
   "outputs": [],
   "source": [
    "X = top_subs['title']\n",
    "y = top_subs.above_median\n",
    "\n",
    "X_train, X_test, y_train, y_test = train_test_split(X,y,random_state=42,stratify=y)"
   ]
  },
  {
   "cell_type": "code",
   "execution_count": 88,
   "id": "ecc47fcd",
   "metadata": {},
   "outputs": [
    {
     "name": "stdout",
     "output_type": "stream",
     "text": [
      "(1173,) (392,)\n"
     ]
    },
    {
     "data": {
      "text/plain": [
       "1    0.5\n",
       "0    0.5\n",
       "Name: above_median, dtype: float64"
      ]
     },
     "execution_count": 88,
     "metadata": {},
     "output_type": "execute_result"
    }
   ],
   "source": [
    "print(X_train.shape, X_test.shape)\n",
    "y_test.value_counts(normalize=True)"
   ]
  },
  {
   "cell_type": "code",
   "execution_count": 89,
   "id": "cbb6e3e2",
   "metadata": {},
   "outputs": [],
   "source": [
    "tf = TfidfVectorizer(stop_words='english')\n",
    "tf.fit(X_train)\n",
    "X_train_tf = tf.transform(X_train)\n",
    "X_test_tf = tf.transform(X_test)"
   ]
  },
  {
   "cell_type": "code",
   "execution_count": 90,
   "id": "358b959a",
   "metadata": {},
   "outputs": [],
   "source": [
    "top_subs_df = pd.DataFrame(X_train_tf.A, columns=tf.get_feature_names_out())"
   ]
  },
  {
   "cell_type": "code",
   "execution_count": 137,
   "id": "0f54404c",
   "metadata": {},
   "outputs": [
    {
     "data": {
      "image/png": "[encoded data removed]",
      "text/plain": [
       "<Figure size 1440x576 with 1 Axes>"
      ]
     },
     "metadata": {},
     "output_type": "display_data"
    }
   ],
   "source": [
    "top_subs_df.sum().sort_values(ascending=False).head(15).plot(kind='barh')\n",
    "\n",
    "plt.title('15 Most Common Words In Top Subreddits',fontsize=20)\n",
    "plt.xlabel('Word Count',fontsize=20)\n",
    "plt.ylabel('Word',fontsize=20);\n",
    "\n",
    "sns.set(rc = {'figure.figsize':(20,10)});\n",
    "\n",
    "sns.set(font_scale = 1.5)"
   ]
  },
  {
   "cell_type": "markdown",
   "id": "979adf84",
   "metadata": {},
   "source": [
    "## Modeling\n",
    "- We run several models in attempt to find a model that runs best\n",
    "- All models use TFIDVectorizer"
   ]
  },
  {
   "cell_type": "markdown",
   "id": "dc39ab2f",
   "metadata": {},
   "source": [
    "### Random Forest"
   ]
  },
  {
   "cell_type": "code",
   "execution_count": 93,
   "id": "0e0152f2",
   "metadata": {},
   "outputs": [
    {
     "name": "stdout",
     "output_type": "stream",
     "text": [
      "Fitting 5 folds for each of 27 candidates, totalling 135 fits\n"
     ]
    },
    {
     "data": {
      "text/plain": [
       "(0.9130434782608695, 0.5867346938775511)"
      ]
     },
     "execution_count": 93,
     "metadata": {},
     "output_type": "execute_result"
    }
   ],
   "source": [
    "pipe = Pipeline([\n",
    "    ('tf',TfidfVectorizer()),\n",
    "    ('rfc',RandomForestClassifier())\n",
    "])\n",
    "\n",
    "pipe_params = {\n",
    "    'tf__min_df':[.0,.002,.006],\n",
    "    'tf__max_features':[100,700,1500],\n",
    "    'tf__ngram_range':[(1,1),(1,2),(1,3)],\n",
    "    'tf__stop_words':['english'] }\n",
    "\n",
    "gs = GridSearchCV(pipe, param_grid=pipe_params,\n",
    "                  verbose=1)\n",
    "\n",
    "gs.fit(X_train,y_train)\n",
    "gs.score(X_train, y_train), gs.score(X_test, y_test)"
   ]
  },
  {
   "cell_type": "code",
   "execution_count": 94,
   "id": "9e0a8c74",
   "metadata": {},
   "outputs": [
    {
     "name": "stdout",
     "output_type": "stream",
     "text": [
      "Best Score: 0.6589670849245317\n"
     ]
    },
    {
     "data": {
      "text/plain": [
       "{'tf__max_features': 1500,\n",
       " 'tf__min_df': 0.002,\n",
       " 'tf__ngram_range': (1, 2),\n",
       " 'tf__stop_words': 'english'}"
      ]
     },
     "execution_count": 94,
     "metadata": {},
     "output_type": "execute_result"
    }
   ],
   "source": [
    "print('Best Score:',gs.best_score_)\n",
    "gs.best_params_"
   ]
  },
  {
   "cell_type": "markdown",
   "id": "dffd9d97",
   "metadata": {},
   "source": [
    "### Decision Tree"
   ]
  },
  {
   "cell_type": "code",
   "execution_count": 95,
   "id": "ee37319f",
   "metadata": {},
   "outputs": [
    {
     "name": "stdout",
     "output_type": "stream",
     "text": [
      "Fitting 5 folds for each of 48 candidates, totalling 240 fits\n"
     ]
    },
    {
     "data": {
      "text/plain": [
       "(0.9130434782608695, 0.6071428571428571)"
      ]
     },
     "execution_count": 95,
     "metadata": {},
     "output_type": "execute_result"
    }
   ],
   "source": [
    "from sklearn.tree import export_text, DecisionTreeClassifier, plot_tree\n",
    "pipe = Pipeline([\n",
    "    ('tf',TfidfVectorizer()),\n",
    "    ('dtc',DecisionTreeClassifier())\n",
    "])\n",
    "\n",
    "pipe_params = {\n",
    "    'tf__min_df':[.002,.004,.006,.008],\n",
    "    'tf__max_features':[100,300,500,800],\n",
    "    'tf__ngram_range':[(1,1),(1,2),(1,3)],\n",
    "    'tf__stop_words':['english'] }\n",
    "\n",
    "gs = GridSearchCV(pipe, param_grid=pipe_params,\n",
    "                  verbose=1)\n",
    "\n",
    "gs.fit(X_train,y_train)\n",
    "gs.score(X_train, y_train), gs.score(X_test, y_test)"
   ]
  },
  {
   "cell_type": "code",
   "execution_count": 96,
   "id": "433e980c",
   "metadata": {},
   "outputs": [
    {
     "name": "stdout",
     "output_type": "stream",
     "text": [
      "Best Score: 0.6555446444808146\n"
     ]
    },
    {
     "data": {
      "text/plain": [
       "{'tf__max_features': 800,\n",
       " 'tf__min_df': 0.002,\n",
       " 'tf__ngram_range': (1, 1),\n",
       " 'tf__stop_words': 'english'}"
      ]
     },
     "execution_count": 96,
     "metadata": {},
     "output_type": "execute_result"
    }
   ],
   "source": [
    "print('Best Score:',gs.best_score_)\n",
    "gs.best_params_"
   ]
  },
  {
   "cell_type": "markdown",
   "id": "91c8cbf9",
   "metadata": {},
   "source": [
    "### Logistic Regression"
   ]
  },
  {
   "cell_type": "code",
   "execution_count": 141,
   "id": "5cd6c2da",
   "metadata": {},
   "outputs": [
    {
     "name": "stdout",
     "output_type": "stream",
     "text": [
      "Fitting 5 folds for each of 48 candidates, totalling 240 fits\n"
     ]
    },
    {
     "data": {
      "text/plain": [
       "(0.8235294117647058, 0.6326530612244898)"
      ]
     },
     "execution_count": 141,
     "metadata": {},
     "output_type": "execute_result"
    }
   ],
   "source": [
    "pipe = Pipeline([\n",
    "    ('tf',TfidfVectorizer()),\n",
    "    ('lreg',LogisticRegression())\n",
    "])\n",
    "\n",
    "pipe_params = {\n",
    "    'tf__min_df':[.002,.004,.006,.008],\n",
    "    'tf__max_features':[100,300,500,800],\n",
    "    'tf__ngram_range':[(1,1),(1,2),(1,3)],\n",
    "    'tf__stop_words':['english']}\n",
    "\n",
    "gs = GridSearchCV(pipe, param_grid=pipe_params,\n",
    "                  verbose=1)\n",
    "\n",
    "gs.fit(X_train,y_train)\n",
    "gs.score(X_train, y_train), gs.score(X_test, y_test)"
   ]
  },
  {
   "cell_type": "code",
   "execution_count": 98,
   "id": "0886b905",
   "metadata": {},
   "outputs": [
    {
     "name": "stdout",
     "output_type": "stream",
     "text": [
      "Best Score: 0.672598654300782\n"
     ]
    },
    {
     "data": {
      "text/plain": [
       "{'tf__max_features': 800,\n",
       " 'tf__min_df': 0.002,\n",
       " 'tf__ngram_range': (1, 3),\n",
       " 'tf__stop_words': 'english'}"
      ]
     },
     "execution_count": 98,
     "metadata": {},
     "output_type": "execute_result"
    }
   ],
   "source": [
    "print('Best Score:',gs.best_score_)\n",
    "gs.best_params_"
   ]
  },
  {
   "cell_type": "code",
   "execution_count": 100,
   "id": "022d3291",
   "metadata": {},
   "outputs": [
    {
     "data": {
      "image/png": "[encoded data removed]",
      "text/plain": [
       "<Figure size 1440x720 with 2 Axes>"
      ]
     },
     "metadata": {},
     "output_type": "display_data"
    }
   ],
   "source": [
    "ConfusionMatrixDisplay.from_estimator(gs, X_test, y_test);"
   ]
  },
  {
   "cell_type": "code",
   "execution_count": 138,
   "id": "4e50c605",
   "metadata": {},
   "outputs": [
    {
     "name": "stdout",
     "output_type": "stream",
     "text": [
      "Precision: 0.7448979591836735\n",
      "Recall: 0.6083333333333333\n",
      "F1 Score: 0.6697247706422018\n"
     ]
    }
   ],
   "source": [
    "precision_gs3 = 146 / (146 + 50)\n",
    "recall_gs3 = 146 / (146 + 94)\n",
    "f1_gs3 = 2*(precision_gs3*recall_gs3) / (precision_gs3+recall_gs3)\n",
    "\n",
    "print('Precision:', precision_gs3)\n",
    "print('Recall:', recall_gs3)\n",
    "print('F1 Score:', f1_gs3)"
   ]
  },
  {
   "cell_type": "code",
   "execution_count": 176,
   "id": "bd4c1602",
   "metadata": {},
   "outputs": [
    {
     "data": {
      "text/plain": [
       "just      274.906985\n",
       "like      227.528163\n",
       "new       225.657232\n",
       "time      165.681941\n",
       "got       152.531203\n",
       "day       123.026243\n",
       "today     122.597787\n",
       "people    117.038322\n",
       "man       108.771124\n",
       "years     103.231165\n",
       "think     102.688732\n",
       "year       95.789029\n",
       "oc         94.342706\n",
       "love       92.936679\n",
       "did        90.822518\n",
       "don        87.138720\n",
       "game       84.872234\n",
       "good       84.466052\n",
       "going      82.597442\n",
       "old        82.463657\n",
       "dtype: float64"
      ]
     },
     "execution_count": 176,
     "metadata": {},
     "output_type": "execute_result"
    }
   ],
   "source": [
    "df_trial_2.sum().sort_values(ascending=False).head(20)"
   ]
  },
  {
   "cell_type": "code",
   "execution_count": 175,
   "id": "1531317e",
   "metadata": {},
   "outputs": [
    {
     "data": {
      "text/plain": [
       "like       12.971177\n",
       "just       12.876546\n",
       "time       10.960086\n",
       "today      10.250620\n",
       "man         9.121956\n",
       "years       9.075965\n",
       "day         8.707382\n",
       "picture     8.540744\n",
       "dog         7.623345\n",
       "oc          7.482287\n",
       "people      7.082967\n",
       "dad         6.892556\n",
       "did         6.891423\n",
       "best        6.713533\n",
       "cat         6.685492\n",
       "old         6.539260\n",
       "life        6.454698\n",
       "right       6.382542\n",
       "took        6.216213\n",
       "kid         6.172216\n",
       "dtype: float64"
      ]
     },
     "execution_count": 175,
     "metadata": {},
     "output_type": "execute_result"
    }
   ],
   "source": [
    "top_subs_df.sum().sort_values(ascending=False).head(20)"
   ]
  },
  {
   "cell_type": "markdown",
   "id": "3949dedd",
   "metadata": {},
   "source": [
    "## Top Subreddits Models Interpretation:\n",
    "- Our best scoring model is the logistic regression model\n",
    "\n",
    "- When comparing the top 10 words from the top_subs and original dataframes, we see that 8 of the top 10 words are the same. The other two words are likely due to the specificity of the subreddit themselves. While the model performs better on the smaller subreddit, I do not believe it will be translatable to the original data itself as the performance isn't inspiringly better."
   ]
  },
  {
   "cell_type": "markdown",
   "id": "fa91a6f0",
   "metadata": {},
   "source": [
    "## Misclassification"
   ]
  },
  {
   "cell_type": "code",
   "execution_count": 169,
   "id": "a6058d7a",
   "metadata": {},
   "outputs": [],
   "source": [
    "misclass = X_test.copy()\n",
    "misclass = pd.DataFrame(misclass)\n",
    "misclass['actual'] = y_test\n",
    "misclass['predicted'] = gs.predict(X_test)\n",
    "misclass['title_length'] = [len(each) for each in misclass.title]"
   ]
  },
  {
   "cell_type": "code",
   "execution_count": 190,
   "id": "b491c159",
   "metadata": {
    "scrolled": false
   },
   "outputs": [
    {
     "data": {
      "text/html": [
       "<div>\n",
       "<style scoped>\n",
       "    .dataframe tbody tr th:only-of-type {\n",
       "        vertical-align: middle;\n",
       "    }\n",
       "\n",
       "    .dataframe tbody tr th {\n",
       "        vertical-align: top;\n",
       "    }\n",
       "\n",
       "    .dataframe thead th {\n",
       "        text-align: right;\n",
       "    }\n",
       "</style>\n",
       "<table border=\"1\" class=\"dataframe\">\n",
       "  <thead>\n",
       "    <tr style=\"text-align: right;\">\n",
       "      <th></th>\n",
       "      <th>title</th>\n",
       "      <th>actual</th>\n",
       "      <th>predicted</th>\n",
       "      <th>title_length</th>\n",
       "    </tr>\n",
       "  </thead>\n",
       "  <tbody>\n",
       "    <tr>\n",
       "      <th>7437</th>\n",
       "      <td>22-year-old Iranian here. Just wanted to share my love with my friends all over the world (Ameri...</td>\n",
       "      <td>1</td>\n",
       "      <td>0</td>\n",
       "      <td>205</td>\n",
       "    </tr>\n",
       "    <tr>\n",
       "      <th>9630</th>\n",
       "      <td>I'm a quadriplegic and I've been using exoskeleton recently. My physical therapist is holding me...</td>\n",
       "      <td>1</td>\n",
       "      <td>0</td>\n",
       "      <td>194</td>\n",
       "    </tr>\n",
       "    <tr>\n",
       "      <th>9258</th>\n",
       "      <td>For 30 years, Mr. Hinton was stripped of all his rights while he sat on Alabama death row for a ...</td>\n",
       "      <td>0</td>\n",
       "      <td>1</td>\n",
       "      <td>190</td>\n",
       "    </tr>\n",
       "    <tr>\n",
       "      <th>8448</th>\n",
       "      <td>This Turkish bride and groom chose their wedding banquet to serve food to 4,000 Syrian refugees ...</td>\n",
       "      <td>0</td>\n",
       "      <td>1</td>\n",
       "      <td>155</td>\n",
       "    </tr>\n",
       "    <tr>\n",
       "      <th>8477</th>\n",
       "      <td>Ricky Gervais to celebrities at the Golden Globes: \"You're in no position to lecture the public ...</td>\n",
       "      <td>1</td>\n",
       "      <td>0</td>\n",
       "      <td>151</td>\n",
       "    </tr>\n",
       "    <tr>\n",
       "      <th>8891</th>\n",
       "      <td>I'm no longer banned from playing in magic tournaments. I have risen from the ashes to defend my...</td>\n",
       "      <td>1</td>\n",
       "      <td>0</td>\n",
       "      <td>151</td>\n",
       "    </tr>\n",
       "    <tr>\n",
       "      <th>9208</th>\n",
       "      <td>I came in to the office early and switched as many M and N keys on keyboards as I could. Some mi...</td>\n",
       "      <td>1</td>\n",
       "      <td>0</td>\n",
       "      <td>146</td>\n",
       "    </tr>\n",
       "    <tr>\n",
       "      <th>7767</th>\n",
       "      <td>I've been photoshopping my kid into marginally dangerous situations. Nothing unbelievable, but e...</td>\n",
       "      <td>1</td>\n",
       "      <td>0</td>\n",
       "      <td>140</td>\n",
       "    </tr>\n",
       "    <tr>\n",
       "      <th>9451</th>\n",
       "      <td>School custodian casually walking through the gym with no one watching but the security camera a...</td>\n",
       "      <td>0</td>\n",
       "      <td>1</td>\n",
       "      <td>127</td>\n",
       "    </tr>\n",
       "    <tr>\n",
       "      <th>7315</th>\n",
       "      <td>Private Internet Access, a VPN provider, takes out a full page ad in The New York Time calling o...</td>\n",
       "      <td>1</td>\n",
       "      <td>0</td>\n",
       "      <td>111</td>\n",
       "    </tr>\n",
       "  </tbody>\n",
       "</table>\n",
       "</div>"
      ],
      "text/plain": [
       "                                                                                                    title  \\\n",
       "7437  22-year-old Iranian here. Just wanted to share my love with my friends all over the world (Ameri...   \n",
       "9630  I'm a quadriplegic and I've been using exoskeleton recently. My physical therapist is holding me...   \n",
       "9258  For 30 years, Mr. Hinton was stripped of all his rights while he sat on Alabama death row for a ...   \n",
       "8448  This Turkish bride and groom chose their wedding banquet to serve food to 4,000 Syrian refugees ...   \n",
       "8477  Ricky Gervais to celebrities at the Golden Globes: \"You're in no position to lecture the public ...   \n",
       "8891  I'm no longer banned from playing in magic tournaments. I have risen from the ashes to defend my...   \n",
       "9208  I came in to the office early and switched as many M and N keys on keyboards as I could. Some mi...   \n",
       "7767  I've been photoshopping my kid into marginally dangerous situations. Nothing unbelievable, but e...   \n",
       "9451  School custodian casually walking through the gym with no one watching but the security camera a...   \n",
       "7315  Private Internet Access, a VPN provider, takes out a full page ad in The New York Time calling o...   \n",
       "\n",
       "      actual  \\\n",
       "7437       1   \n",
       "9630       1   \n",
       "9258       0   \n",
       "8448       0   \n",
       "8477       1   \n",
       "8891       1   \n",
       "9208       1   \n",
       "7767       1   \n",
       "9451       0   \n",
       "7315       1   \n",
       "\n",
       "      predicted  \\\n",
       "7437          0   \n",
       "9630          0   \n",
       "9258          1   \n",
       "8448          1   \n",
       "8477          0   \n",
       "8891          0   \n",
       "9208          0   \n",
       "7767          0   \n",
       "9451          1   \n",
       "7315          0   \n",
       "\n",
       "      title_length  \n",
       "7437           205  \n",
       "9630           194  \n",
       "9258           190  \n",
       "8448           155  \n",
       "8477           151  \n",
       "8891           151  \n",
       "9208           146  \n",
       "7767           140  \n",
       "9451           127  \n",
       "7315           111  "
      ]
     },
     "execution_count": 190,
     "metadata": {},
     "output_type": "execute_result"
    }
   ],
   "source": [
    "pd.options.display.max_colwidth = 100\n",
    "misclass[misclass['actual'] != misclass['predicted']].sort_values(by='title_length',ascending=False).head(10)"
   ]
  },
  {
   "cell_type": "code",
   "execution_count": 189,
   "id": "9ffa4cdc",
   "metadata": {},
   "outputs": [
    {
     "data": {
      "text/html": [
       "<div>\n",
       "<style scoped>\n",
       "    .dataframe tbody tr th:only-of-type {\n",
       "        vertical-align: middle;\n",
       "    }\n",
       "\n",
       "    .dataframe tbody tr th {\n",
       "        vertical-align: top;\n",
       "    }\n",
       "\n",
       "    .dataframe thead th {\n",
       "        text-align: right;\n",
       "    }\n",
       "</style>\n",
       "<table border=\"1\" class=\"dataframe\">\n",
       "  <thead>\n",
       "    <tr style=\"text-align: right;\">\n",
       "      <th></th>\n",
       "      <th>actual</th>\n",
       "      <th>predicted</th>\n",
       "      <th>title_length</th>\n",
       "    </tr>\n",
       "  </thead>\n",
       "  <tbody>\n",
       "    <tr>\n",
       "      <th>count</th>\n",
       "      <td>392.000000</td>\n",
       "      <td>392.000000</td>\n",
       "      <td>392.000000</td>\n",
       "    </tr>\n",
       "    <tr>\n",
       "      <th>mean</th>\n",
       "      <td>0.500000</td>\n",
       "      <td>0.387755</td>\n",
       "      <td>50.635204</td>\n",
       "    </tr>\n",
       "    <tr>\n",
       "      <th>std</th>\n",
       "      <td>0.500639</td>\n",
       "      <td>0.487861</td>\n",
       "      <td>43.631356</td>\n",
       "    </tr>\n",
       "    <tr>\n",
       "      <th>min</th>\n",
       "      <td>0.000000</td>\n",
       "      <td>0.000000</td>\n",
       "      <td>7.000000</td>\n",
       "    </tr>\n",
       "    <tr>\n",
       "      <th>25%</th>\n",
       "      <td>0.000000</td>\n",
       "      <td>0.000000</td>\n",
       "      <td>19.000000</td>\n",
       "    </tr>\n",
       "    <tr>\n",
       "      <th>50%</th>\n",
       "      <td>0.500000</td>\n",
       "      <td>0.000000</td>\n",
       "      <td>36.000000</td>\n",
       "    </tr>\n",
       "    <tr>\n",
       "      <th>75%</th>\n",
       "      <td>1.000000</td>\n",
       "      <td>1.000000</td>\n",
       "      <td>69.250000</td>\n",
       "    </tr>\n",
       "    <tr>\n",
       "      <th>max</th>\n",
       "      <td>1.000000</td>\n",
       "      <td>1.000000</td>\n",
       "      <td>279.000000</td>\n",
       "    </tr>\n",
       "  </tbody>\n",
       "</table>\n",
       "</div>"
      ],
      "text/plain": [
       "           actual  \\\n",
       "count  392.000000   \n",
       "mean     0.500000   \n",
       "std      0.500639   \n",
       "min      0.000000   \n",
       "25%      0.000000   \n",
       "50%      0.500000   \n",
       "75%      1.000000   \n",
       "max      1.000000   \n",
       "\n",
       "        predicted  \\\n",
       "count  392.000000   \n",
       "mean     0.387755   \n",
       "std      0.487861   \n",
       "min      0.000000   \n",
       "25%      0.000000   \n",
       "50%      0.000000   \n",
       "75%      1.000000   \n",
       "max      1.000000   \n",
       "\n",
       "       title_length  \n",
       "count    392.000000  \n",
       "mean      50.635204  \n",
       "std       43.631356  \n",
       "min        7.000000  \n",
       "25%       19.000000  \n",
       "50%       36.000000  \n",
       "75%       69.250000  \n",
       "max      279.000000  "
      ]
     },
     "execution_count": 189,
     "metadata": {},
     "output_type": "execute_result"
    }
   ],
   "source": [
    "misclass.describe()"
   ]
  },
  {
   "cell_type": "code",
   "execution_count": 188,
   "id": "57b9bc5d",
   "metadata": {},
   "outputs": [
    {
     "data": {
      "text/plain": [
       "0    0.612245\n",
       "1    0.387755\n",
       "Name: predicted, dtype: float64"
      ]
     },
     "execution_count": 188,
     "metadata": {},
     "output_type": "execute_result"
    }
   ],
   "source": [
    "misclass.predicted.value_counts(normalize=True)"
   ]
  },
  {
   "cell_type": "code",
   "execution_count": 198,
   "id": "055ed975",
   "metadata": {},
   "outputs": [
    {
     "data": {
      "text/plain": [
       "1    0.613139\n",
       "0    0.386861\n",
       "Name: predicted, dtype: float64"
      ]
     },
     "execution_count": 198,
     "metadata": {},
     "output_type": "execute_result"
    }
   ],
   "source": [
    "misclass[misclass.title_length > 50].predicted.value_counts(normalize=True)"
   ]
  },
  {
   "cell_type": "code",
   "execution_count": 212,
   "id": "5e033d14",
   "metadata": {},
   "outputs": [
    {
     "data": {
      "image/png": "[encoded data removed]",
      "text/plain": [
       "<Figure size 720x432 with 1 Axes>"
      ]
     },
     "metadata": {},
     "output_type": "display_data"
    }
   ],
   "source": [
    "misclass[misclass.title_length > 50].predicted.value_counts(normalize=True).plot(kind='barh');\n",
    "\n",
    "plt.title('Predicted above median');\n",
    "plt.xlabel('Percent Predicted')\n",
    "plt.ylabel(' Predicted');\n",
    "\n",
    "sns.set(rc = {'figure.figsize':(10,6)});\n",
    "\n",
    "sns.set(font_scale = 1.5)"
   ]
  },
  {
   "cell_type": "code",
   "execution_count": 199,
   "id": "42cafd2a",
   "metadata": {},
   "outputs": [
    {
     "data": {
      "text/plain": [
       "1    0.80292\n",
       "0    0.19708\n",
       "Name: actual, dtype: float64"
      ]
     },
     "execution_count": 199,
     "metadata": {},
     "output_type": "execute_result"
    }
   ],
   "source": [
    "misclass[misclass.title_length > 50].actual.value_counts(normalize=True)"
   ]
  },
  {
   "cell_type": "code",
   "execution_count": 215,
   "id": "31c4825b",
   "metadata": {},
   "outputs": [
    {
     "data": {
      "image/png": "[encoded data removed]",
      "text/plain": [
       "<Figure size 720x432 with 1 Axes>"
      ]
     },
     "metadata": {},
     "output_type": "display_data"
    }
   ],
   "source": [
    "misclass[misclass.title_length > 50].actual.value_counts(normalize=True).plot(kind='barh');\n",
    "\n",
    "plt.title('Actual above median');\n",
    "plt.xlabel('Percent Actual')\n",
    "plt.ylabel('Actual');\n",
    "\n",
    "sns.set(rc = {'figure.figsize':(10,6)});\n",
    "\n",
    "sns.set(font_scale = 1.5)"
   ]
  },
  {
   "cell_type": "markdown",
   "id": "79cd7472",
   "metadata": {},
   "source": [
    "### Posts that have longer title lengths, measured by above the mean, in actuallity run above the comment median 80% of the time whereas when predicting these posts only 61% are predicted to run above the mean. 20% of posts are missed"
   ]
  },
  {
   "cell_type": "markdown",
   "id": "1c9082c9",
   "metadata": {},
   "source": [
    "## Conclusions and Recommendations"
   ]
  },
  {
   "cell_type": "markdown",
   "id": "11d79d42",
   "metadata": {},
   "source": [
    "### Trade-Off Table: Best Models"
   ]
  },
  {
   "cell_type": "markdown",
   "id": "5ade3cd4",
   "metadata": {},
   "source": [
    "|Model_Number|Model_Type|Accuracy|Precision|Recall|Overfit?|\n",
    "|------------|----------|--------|---------|------|--------|\n",
    "|Model_1|Log-Reg|60%|65%|58%|Yes|\n",
    "|Model_2|Log-Reg|54%|80%|53%|No|\n",
    "|Model_3|Log-Reg|57%|66%|56%|No|\n",
    "|Model_4|Random-Forest|57%|64%|56%|Yes|\n",
    "|Model_5|Log-Reg|64%|74%|64%|Yes|"
   ]
  },
  {
   "cell_type": "markdown",
   "id": "955294fb",
   "metadata": {},
   "source": [
    "### Conclusions\n",
    "Our problem statement was to identify which characteristics of a post on Reddit are most predictive of the overall interaction on a thread as measured by the median number of comments.\n",
    "\n",
    "After running several models we can conclude:\n",
    "- Model 2 is best used if attempting to write a post which attracts attention\n",
    "    - Utilizes Precision\n",
    "- Model 3 is best used if trying to view or learn from submissions where comments are accurately predicted to rise above or fall below the median.\n",
    "    - Utilizes Recall\n",
    "- Logisitc regression models consistently performed best whereas Random Forest and Decision Trees were constantly overfit\n",
    "\n",
    "### Recommendations\n",
    "- Our last model which was run on the top subreddits runs the best. \n",
    "- Models on the top scoring subreddits indicate initial models are very good at predicting submissions with comments on the higher end of the distribution spectrum. \n",
    "- The issue is that the model isn't significantly better than any of the models ran with the entirety of the data and many features are the exact same. \n",
    "- However the model performing better indicates we could use similar methods to run a model on the entirety of the data that performs best.\n",
    "- Given more time, incorporate title lengths as a feature and see what is found since our top scoring subreddit there is a significant impact of title length"
   ]
  }
 ],
 "metadata": {
  "kernelspec": {
   "display_name": "Python 3 (ipykernel)",
   "language": "python",
   "name": "python3"
  },
  "language_info": {
   "codemirror_mode": {
    "name": "ipython",
    "version": 3
   },
   "file_extension": ".py",
   "mimetype": "text/x-python",
   "name": "python",
   "nbconvert_exporter": "python",
   "pygments_lexer": "ipython3",
   "version": "3.8.8"
  }
 },
 "nbformat": 4,
 "nbformat_minor": 5
}
